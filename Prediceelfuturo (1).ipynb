{
  "nbformat": 4,
  "nbformat_minor": 0,
  "metadata": {
    "colab": {
      "name": "Prediceelfuturo.ipynb",
      "provenance": [],
      "collapsed_sections": [
        "JdGO0l0vI78F",
        "Hv2Y7KiEU3LA",
        "RHFQoZkCXmTw",
        "l68EVP3H4bKu",
        "qHzfjOB3d6EC",
        "ofRCDCJeejxs",
        "Y7TvIQUo4nPP"
      ]
    },
    "kernelspec": {
      "name": "python3",
      "display_name": "Python 3"
    }
  },
  "cells": [
    {
      "cell_type": "code",
      "metadata": {
        "id": "WdEInAYQcuod",
        "colab_type": "code",
        "outputId": "8bb28e37-b741-4161-c31c-c6db9833d4fe",
        "colab": {
          "base_uri": "https://localhost:8080/",
          "height": 289
        }
      },
      "source": [
        "!pip install pyrenn\n",
        "!pip install pyGRNN"
      ],
      "execution_count": 0,
      "outputs": [
        {
          "output_type": "stream",
          "text": [
            "Requirement already satisfied: pyrenn in /usr/local/lib/python3.6/dist-packages (0.1)\n",
            "Requirement already satisfied: numpy in /usr/local/lib/python3.6/dist-packages (from pyrenn) (1.18.2)\n",
            "Requirement already satisfied: pyGRNN in /usr/local/lib/python3.6/dist-packages (0.1)\n",
            "Requirement already satisfied: seaborn in /usr/local/lib/python3.6/dist-packages (from pyGRNN) (0.10.0)\n",
            "Requirement already satisfied: scipy in /usr/local/lib/python3.6/dist-packages (from pyGRNN) (1.4.1)\n",
            "Requirement already satisfied: numpy in /usr/local/lib/python3.6/dist-packages (from pyGRNN) (1.18.2)\n",
            "Requirement already satisfied: scikit-learn in /usr/local/lib/python3.6/dist-packages (from pyGRNN) (0.22.2.post1)\n",
            "Requirement already satisfied: pandas in /usr/local/lib/python3.6/dist-packages (from pyGRNN) (1.0.3)\n",
            "Requirement already satisfied: matplotlib in /usr/local/lib/python3.6/dist-packages (from pyGRNN) (3.2.1)\n",
            "Requirement already satisfied: joblib>=0.11 in /usr/local/lib/python3.6/dist-packages (from scikit-learn->pyGRNN) (0.14.1)\n",
            "Requirement already satisfied: pytz>=2017.2 in /usr/local/lib/python3.6/dist-packages (from pandas->pyGRNN) (2018.9)\n",
            "Requirement already satisfied: python-dateutil>=2.6.1 in /usr/local/lib/python3.6/dist-packages (from pandas->pyGRNN) (2.8.1)\n",
            "Requirement already satisfied: pyparsing!=2.0.4,!=2.1.2,!=2.1.6,>=2.0.1 in /usr/local/lib/python3.6/dist-packages (from matplotlib->pyGRNN) (2.4.7)\n",
            "Requirement already satisfied: cycler>=0.10 in /usr/local/lib/python3.6/dist-packages (from matplotlib->pyGRNN) (0.10.0)\n",
            "Requirement already satisfied: kiwisolver>=1.0.1 in /usr/local/lib/python3.6/dist-packages (from matplotlib->pyGRNN) (1.2.0)\n",
            "Requirement already satisfied: six>=1.5 in /usr/local/lib/python3.6/dist-packages (from python-dateutil>=2.6.1->pandas->pyGRNN) (1.12.0)\n"
          ],
          "name": "stdout"
        }
      ]
    },
    {
      "cell_type": "code",
      "metadata": {
        "id": "oYc0t9nq5j1s",
        "colab_type": "code",
        "colab": {}
      },
      "source": [
        "import numpy as np"
      ],
      "execution_count": 0,
      "outputs": []
    },
    {
      "cell_type": "code",
      "metadata": {
        "id": "wJINK7Lev1Fd",
        "colab_type": "code",
        "colab": {}
      },
      "source": [
        "import pandas as pd\n",
        "train_df = pd.read_csv(\"/content/drive/My Drive/taskgive/train_csv.csv\")\n",
        "test_df = pd.read_csv(\"/content/drive/My Drive/taskgive/test_csv.csv\")"
      ],
      "execution_count": 0,
      "outputs": []
    },
    {
      "cell_type": "code",
      "metadata": {
        "id": "YQJYKuo8v1DB",
        "colab_type": "code",
        "outputId": "c426b2b8-812c-4fa0-e9d4-4d4d637f5097",
        "colab": {
          "base_uri": "https://localhost:8080/",
          "height": 204
        }
      },
      "source": [
        "train_df.head()"
      ],
      "execution_count": 0,
      "outputs": [
        {
          "output_type": "execute_result",
          "data": {
            "text/html": [
              "<div>\n",
              "<style scoped>\n",
              "    .dataframe tbody tr th:only-of-type {\n",
              "        vertical-align: middle;\n",
              "    }\n",
              "\n",
              "    .dataframe tbody tr th {\n",
              "        vertical-align: top;\n",
              "    }\n",
              "\n",
              "    .dataframe thead th {\n",
              "        text-align: right;\n",
              "    }\n",
              "</style>\n",
              "<table border=\"1\" class=\"dataframe\">\n",
              "  <thead>\n",
              "    <tr style=\"text-align: right;\">\n",
              "      <th></th>\n",
              "      <th>id</th>\n",
              "      <th>time</th>\n",
              "      <th>feature</th>\n",
              "    </tr>\n",
              "  </thead>\n",
              "  <tbody>\n",
              "    <tr>\n",
              "      <th>0</th>\n",
              "      <td>0</td>\n",
              "      <td>2019-03-19 00:00:00</td>\n",
              "      <td>237.97</td>\n",
              "    </tr>\n",
              "    <tr>\n",
              "      <th>1</th>\n",
              "      <td>1</td>\n",
              "      <td>2019-03-19 00:00:10</td>\n",
              "      <td>57.93</td>\n",
              "    </tr>\n",
              "    <tr>\n",
              "      <th>2</th>\n",
              "      <td>2</td>\n",
              "      <td>2019-03-19 00:00:20</td>\n",
              "      <td>90.53</td>\n",
              "    </tr>\n",
              "    <tr>\n",
              "      <th>3</th>\n",
              "      <td>3</td>\n",
              "      <td>2019-03-19 00:00:30</td>\n",
              "      <td>260.75</td>\n",
              "    </tr>\n",
              "    <tr>\n",
              "      <th>4</th>\n",
              "      <td>4</td>\n",
              "      <td>2019-03-19 00:00:40</td>\n",
              "      <td>49.70</td>\n",
              "    </tr>\n",
              "  </tbody>\n",
              "</table>\n",
              "</div>"
            ],
            "text/plain": [
              "   id                 time  feature\n",
              "0   0  2019-03-19 00:00:00   237.97\n",
              "1   1  2019-03-19 00:00:10    57.93\n",
              "2   2  2019-03-19 00:00:20    90.53\n",
              "3   3  2019-03-19 00:00:30   260.75\n",
              "4   4  2019-03-19 00:00:40    49.70"
            ]
          },
          "metadata": {
            "tags": []
          },
          "execution_count": 368
        }
      ]
    },
    {
      "cell_type": "markdown",
      "metadata": {
        "id": "ZyS-2vMVulf8",
        "colab_type": "text"
      },
      "source": [
        "# observation:\n",
        "There are 3 features id,time,features(lable) "
      ]
    },
    {
      "cell_type": "code",
      "metadata": {
        "id": "kMLSp6y3u1gA",
        "colab_type": "code",
        "colab": {}
      },
      "source": [
        ""
      ],
      "execution_count": 0,
      "outputs": []
    },
    {
      "cell_type": "markdown",
      "metadata": {
        "id": "y_MBNSSzu2Qr",
        "colab_type": "text"
      },
      "source": [
        "# EDA"
      ]
    },
    {
      "cell_type": "markdown",
      "metadata": {
        "id": "wu1yl1vFu5CV",
        "colab_type": "text"
      },
      "source": [
        " \n",
        "\n",
        "\n",
        "1.   Spliting the time feature to split to hours,min,second,day,month,year\n",
        "2.   then converting hours,min,second to seconds\n",
        "3.   drop id\n",
        "\n"
      ]
    },
    {
      "cell_type": "code",
      "metadata": {
        "id": "SjZX_9BWv1AX",
        "colab_type": "code",
        "colab": {}
      },
      "source": [
        "date_train=[]\n",
        "t_train=[]\n",
        "for index, row in train_df.iterrows():\n",
        "  date,times = row['time'].split()\n",
        "  date_train.append(date)\n",
        "  t_train.append(times)"
      ],
      "execution_count": 0,
      "outputs": []
    },
    {
      "cell_type": "code",
      "metadata": {
        "id": "It6cqssL5C-v",
        "colab_type": "code",
        "colab": {}
      },
      "source": [
        "date_test=[]\n",
        "t_test=[]\n",
        "for index, row in test_df.iterrows():\n",
        "  date,times = row['time'].split()\n",
        "  date_test.append(date)\n",
        "  t_test.append(times)"
      ],
      "execution_count": 0,
      "outputs": []
    },
    {
      "cell_type": "code",
      "metadata": {
        "id": "CoDvo2gz1pe4",
        "colab_type": "code",
        "colab": {}
      },
      "source": [
        "#https://stackoverflow.com/questions/6402812/how-to-convert-an-hmmss-time-string-to-seconds-in-python\n",
        "def get_sec(time_str):\n",
        "    \"\"\"Get Seconds from time.\"\"\"\n",
        "    h, m, s = time_str.split(':')\n",
        "    return int(h) * 3600 + int(m) * 60 + int(s)"
      ],
      "execution_count": 0,
      "outputs": []
    },
    {
      "cell_type": "code",
      "metadata": {
        "id": "CME2OJD_04HV",
        "colab_type": "code",
        "colab": {}
      },
      "source": [
        "sec_train=[]\n",
        "for row in t_train:\n",
        "  seconds=get_sec(row)\n",
        "  sec_train.append(seconds)"
      ],
      "execution_count": 0,
      "outputs": []
    },
    {
      "cell_type": "code",
      "metadata": {
        "id": "iEb6tUpz5ckW",
        "colab_type": "code",
        "colab": {}
      },
      "source": [
        "sec_test=[]\n",
        "for row in t_test:\n",
        "  seconds=get_sec(row)\n",
        "  sec_test.append(seconds)"
      ],
      "execution_count": 0,
      "outputs": []
    },
    {
      "cell_type": "code",
      "metadata": {
        "id": "7ZzdD3B87Mmx",
        "colab_type": "code",
        "colab": {}
      },
      "source": [
        "year_train=[]\n",
        "month_train=[]\n",
        "day_train=[]\n",
        "for row in date_train:\n",
        "  y, m, d = row.split('-')\n",
        "  year_train.append(y)\n",
        "  month_train.append(m)\n",
        "  day_train.append(d)\n",
        "\n"
      ],
      "execution_count": 0,
      "outputs": []
    },
    {
      "cell_type": "code",
      "metadata": {
        "id": "gmxtBWlo8eEm",
        "colab_type": "code",
        "colab": {}
      },
      "source": [
        "year_test=[]\n",
        "month_test=[]\n",
        "day_test=[]\n",
        "for row in date_test:\n",
        "  y, m, d = row.split('-')\n",
        "  year_test.append(y)\n",
        "  month_test.append(m)\n",
        "  day_test.append(d)"
      ],
      "execution_count": 0,
      "outputs": []
    },
    {
      "cell_type": "code",
      "metadata": {
        "id": "Ts6u4bva04Et",
        "colab_type": "code",
        "colab": {}
      },
      "source": [
        "train_df[\"second\"]=sec_train\n",
        "train_df['day']=day_train\n",
        "train_df['month']=month_train\n",
        "train_df['year']=year_train\n",
        "\n",
        "test_df[\"second\"]=sec_test\n",
        "test_df['day']=day_test\n",
        "test_df['month']=month_test\n",
        "test_df['year']=year_test"
      ],
      "execution_count": 0,
      "outputs": []
    },
    {
      "cell_type": "code",
      "metadata": {
        "id": "6rdvWtwUDdeW",
        "colab_type": "code",
        "outputId": "6b9474c4-0df4-4a76-b84a-2e1f43446f38",
        "colab": {
          "base_uri": "https://localhost:8080/",
          "height": 85
        }
      },
      "source": [
        "train_df.std(axis = 0, skipna = True) "
      ],
      "execution_count": 0,
      "outputs": [
        {
          "output_type": "execute_result",
          "data": {
            "text/plain": [
              "id          23.237900\n",
              "feature     96.846260\n",
              "second     232.379001\n",
              "dtype: float64"
            ]
          },
          "metadata": {
            "tags": []
          },
          "execution_count": 377
        }
      ]
    },
    {
      "cell_type": "code",
      "metadata": {
        "id": "2pXGxIOj-XDg",
        "colab_type": "code",
        "colab": {}
      },
      "source": [
        ""
      ],
      "execution_count": 0,
      "outputs": []
    },
    {
      "cell_type": "code",
      "metadata": {
        "id": "WpUMlKfrTH61",
        "colab_type": "code",
        "colab": {}
      },
      "source": [
        "trainid=train_df['id']\n",
        "testid=test_df['id']"
      ],
      "execution_count": 0,
      "outputs": []
    },
    {
      "cell_type": "code",
      "metadata": {
        "id": "Y5Um5SDm-_sG",
        "colab_type": "code",
        "colab": {}
      },
      "source": [
        "train_df.drop(['time','id'],axis=1,inplace=True)\n",
        "test_df.drop(['time','id'],axis=1,inplace=True)"
      ],
      "execution_count": 0,
      "outputs": []
    },
    {
      "cell_type": "code",
      "metadata": {
        "id": "7Ox4Olo--l9O",
        "colab_type": "code",
        "colab": {}
      },
      "source": [
        "dataftrain=train_df\n",
        "dataftest=test_df"
      ],
      "execution_count": 0,
      "outputs": []
    },
    {
      "cell_type": "code",
      "metadata": {
        "id": "xeAwr8J36fTk",
        "colab_type": "code",
        "outputId": "2f0dce3e-da4e-45ae-aae0-36c08d2eb332",
        "colab": {
          "base_uri": "https://localhost:8080/",
          "height": 204
        }
      },
      "source": [
        "train_df.head()"
      ],
      "execution_count": 0,
      "outputs": [
        {
          "output_type": "execute_result",
          "data": {
            "text/html": [
              "<div>\n",
              "<style scoped>\n",
              "    .dataframe tbody tr th:only-of-type {\n",
              "        vertical-align: middle;\n",
              "    }\n",
              "\n",
              "    .dataframe tbody tr th {\n",
              "        vertical-align: top;\n",
              "    }\n",
              "\n",
              "    .dataframe thead th {\n",
              "        text-align: right;\n",
              "    }\n",
              "</style>\n",
              "<table border=\"1\" class=\"dataframe\">\n",
              "  <thead>\n",
              "    <tr style=\"text-align: right;\">\n",
              "      <th></th>\n",
              "      <th>feature</th>\n",
              "      <th>second</th>\n",
              "      <th>day</th>\n",
              "      <th>month</th>\n",
              "      <th>year</th>\n",
              "    </tr>\n",
              "  </thead>\n",
              "  <tbody>\n",
              "    <tr>\n",
              "      <th>0</th>\n",
              "      <td>237.97</td>\n",
              "      <td>0</td>\n",
              "      <td>19</td>\n",
              "      <td>03</td>\n",
              "      <td>2019</td>\n",
              "    </tr>\n",
              "    <tr>\n",
              "      <th>1</th>\n",
              "      <td>57.93</td>\n",
              "      <td>10</td>\n",
              "      <td>19</td>\n",
              "      <td>03</td>\n",
              "      <td>2019</td>\n",
              "    </tr>\n",
              "    <tr>\n",
              "      <th>2</th>\n",
              "      <td>90.53</td>\n",
              "      <td>20</td>\n",
              "      <td>19</td>\n",
              "      <td>03</td>\n",
              "      <td>2019</td>\n",
              "    </tr>\n",
              "    <tr>\n",
              "      <th>3</th>\n",
              "      <td>260.75</td>\n",
              "      <td>30</td>\n",
              "      <td>19</td>\n",
              "      <td>03</td>\n",
              "      <td>2019</td>\n",
              "    </tr>\n",
              "    <tr>\n",
              "      <th>4</th>\n",
              "      <td>49.70</td>\n",
              "      <td>40</td>\n",
              "      <td>19</td>\n",
              "      <td>03</td>\n",
              "      <td>2019</td>\n",
              "    </tr>\n",
              "  </tbody>\n",
              "</table>\n",
              "</div>"
            ],
            "text/plain": [
              "   feature  second day month  year\n",
              "0   237.97       0  19    03  2019\n",
              "1    57.93      10  19    03  2019\n",
              "2    90.53      20  19    03  2019\n",
              "3   260.75      30  19    03  2019\n",
              "4    49.70      40  19    03  2019"
            ]
          },
          "metadata": {
            "tags": []
          },
          "execution_count": 295
        }
      ]
    },
    {
      "cell_type": "code",
      "metadata": {
        "id": "bEeMt2Ot6fJc",
        "colab_type": "code",
        "colab": {}
      },
      "source": [
        "def create_dataset(dataset, look_back=1):\n",
        "\tdataX, dataY = [], []\n",
        "\tfor i in range(len(dataset)-look_back-1):\n",
        "\t\ta = dataset[i:(i+look_back), 0]\n",
        "\t\tdataX.append(a)\n",
        "\t\tdataY.append(dataset[i + look_back, 0])\n",
        "\treturn numpy.array(dataX), numpy.array(dataY)"
      ],
      "execution_count": 0,
      "outputs": []
    },
    {
      "cell_type": "code",
      "metadata": {
        "id": "P3Qj1MTv_jKo",
        "colab_type": "code",
        "colab": {}
      },
      "source": [
        ""
      ],
      "execution_count": 0,
      "outputs": []
    },
    {
      "cell_type": "code",
      "metadata": {
        "id": "Qz2TTeTR6R-T",
        "colab_type": "code",
        "colab": {}
      },
      "source": [
        "ytrain=train_df['feature']\n",
        "train_df.drop(['feature'],axis=1,inplace=True)"
      ],
      "execution_count": 0,
      "outputs": []
    },
    {
      "cell_type": "code",
      "metadata": {
        "id": "FEcmLESIJdiw",
        "colab_type": "code",
        "colab": {}
      },
      "source": [
        "import numpy as np\n",
        "import pandas as pd\n",
        "from matplotlib import pyplot as plt\n",
        "from statsmodels.tsa.stattools import adfuller\n",
        "from statsmodels.tsa.seasonal import seasonal_decompose\n",
        "from statsmodels.tsa.arima_model import ARIMA\n",
        "from pandas.plotting import register_matplotlib_converters"
      ],
      "execution_count": 0,
      "outputs": []
    },
    {
      "cell_type": "code",
      "metadata": {
        "id": "8K3Ma3tpJU13",
        "colab_type": "code",
        "outputId": "cb8d162a-73a0-4d50-a9a0-cfd788d77e5a",
        "colab": {
          "base_uri": "https://localhost:8080/",
          "height": 119
        }
      },
      "source": [
        "result = adfuller(ytrain)\n",
        "print('ADF Statistic: {}'.format(result[0]))\n",
        "print('p-value: {}'.format(result[1]))\n",
        "print('Critical Values:')\n",
        "for key, value in result[4].items():\n",
        "    print('\\t{}: {}'.format(key, value))"
      ],
      "execution_count": 0,
      "outputs": [
        {
          "output_type": "stream",
          "text": [
            "ADF Statistic: -5.945866499650216\n",
            "p-value: 2.205049473411699e-07\n",
            "Critical Values:\n",
            "\t1%: -3.5159766913976376\n",
            "\t5%: -2.898885703483903\n",
            "\t10%: -2.5866935058484217\n"
          ],
          "name": "stdout"
        }
      ]
    },
    {
      "cell_type": "code",
      "metadata": {
        "id": "LHlZtrz2OWOL",
        "colab_type": "code",
        "colab": {}
      },
      "source": [
        "df = pd.read_csv(\"/content/drive/My Drive/taskgive/train_csv.csv\")"
      ],
      "execution_count": 0,
      "outputs": []
    },
    {
      "cell_type": "code",
      "metadata": {
        "id": "bpV3Shh8PIWX",
        "colab_type": "code",
        "colab": {}
      },
      "source": [
        "df.drop(['id'],axis=1,inplace=True)"
      ],
      "execution_count": 0,
      "outputs": []
    },
    {
      "cell_type": "code",
      "metadata": {
        "id": "XhM3WE24O_vH",
        "colab_type": "code",
        "outputId": "dd5b93a2-fcd2-472c-d07a-46cd2f5ffbc4",
        "colab": {
          "base_uri": "https://localhost:8080/",
          "height": 204
        }
      },
      "source": [
        "df.head()"
      ],
      "execution_count": 0,
      "outputs": [
        {
          "output_type": "execute_result",
          "data": {
            "text/html": [
              "<div>\n",
              "<style scoped>\n",
              "    .dataframe tbody tr th:only-of-type {\n",
              "        vertical-align: middle;\n",
              "    }\n",
              "\n",
              "    .dataframe tbody tr th {\n",
              "        vertical-align: top;\n",
              "    }\n",
              "\n",
              "    .dataframe thead th {\n",
              "        text-align: right;\n",
              "    }\n",
              "</style>\n",
              "<table border=\"1\" class=\"dataframe\">\n",
              "  <thead>\n",
              "    <tr style=\"text-align: right;\">\n",
              "      <th></th>\n",
              "      <th>time</th>\n",
              "      <th>feature</th>\n",
              "    </tr>\n",
              "  </thead>\n",
              "  <tbody>\n",
              "    <tr>\n",
              "      <th>0</th>\n",
              "      <td>2019-03-19 00:00:00</td>\n",
              "      <td>237.97</td>\n",
              "    </tr>\n",
              "    <tr>\n",
              "      <th>1</th>\n",
              "      <td>2019-03-19 00:00:10</td>\n",
              "      <td>57.93</td>\n",
              "    </tr>\n",
              "    <tr>\n",
              "      <th>2</th>\n",
              "      <td>2019-03-19 00:00:20</td>\n",
              "      <td>90.53</td>\n",
              "    </tr>\n",
              "    <tr>\n",
              "      <th>3</th>\n",
              "      <td>2019-03-19 00:00:30</td>\n",
              "      <td>260.75</td>\n",
              "    </tr>\n",
              "    <tr>\n",
              "      <th>4</th>\n",
              "      <td>2019-03-19 00:00:40</td>\n",
              "      <td>49.70</td>\n",
              "    </tr>\n",
              "  </tbody>\n",
              "</table>\n",
              "</div>"
            ],
            "text/plain": [
              "                  time  feature\n",
              "0  2019-03-19 00:00:00   237.97\n",
              "1  2019-03-19 00:00:10    57.93\n",
              "2  2019-03-19 00:00:20    90.53\n",
              "3  2019-03-19 00:00:30   260.75\n",
              "4  2019-03-19 00:00:40    49.70"
            ]
          },
          "metadata": {
            "tags": []
          },
          "execution_count": 213
        }
      ]
    },
    {
      "cell_type": "code",
      "metadata": {
        "id": "k-HjnknwO9b_",
        "colab_type": "code",
        "outputId": "4334e7be-a1c5-4c8c-8e52-700d04b932d2",
        "colab": {
          "base_uri": "https://localhost:8080/",
          "height": 313
        }
      },
      "source": [
        "df = pd.read_csv('/content/drive/My Drive/taskgive/train_csv.csv', parse_dates = ['time'], index_col = ['time'])\n",
        "df.head()\n",
        "plt.xlabel('Date')\n",
        "plt.ylabel('Number of air passengers')\n",
        "plt.plot(df)"
      ],
      "execution_count": 0,
      "outputs": [
        {
          "output_type": "execute_result",
          "data": {
            "text/plain": [
              "[<matplotlib.lines.Line2D at 0x7f42410f7080>,\n",
              " <matplotlib.lines.Line2D at 0x7f4241106470>]"
            ]
          },
          "metadata": {
            "tags": []
          },
          "execution_count": 214
        },
        {
          "output_type": "display_data",
          "data": {
            "image/png": "[encoded data removed]",
            "text/plain": [
              "<Figure size 432x288 with 1 Axes>"
            ]
          },
          "metadata": {
            "tags": [],
            "needs_background": "light"
          }
        }
      ]
    },
    {
      "cell_type": "code",
      "metadata": {
        "id": "lhxlhOAwJmHk",
        "colab_type": "code",
        "outputId": "55cf13cf-8581-4c0f-ad13-741d7d97e866",
        "colab": {
          "base_uri": "https://localhost:8080/",
          "height": 367
        }
      },
      "source": [
        "df_log = np.log(df)\n",
        "plt.plot(df_log)"
      ],
      "execution_count": 0,
      "outputs": [
        {
          "output_type": "stream",
          "text": [
            "/usr/local/lib/python3.6/dist-packages/ipykernel_launcher.py:1: RuntimeWarning:\n",
            "\n",
            "divide by zero encountered in log\n",
            "\n"
          ],
          "name": "stderr"
        },
        {
          "output_type": "execute_result",
          "data": {
            "text/plain": [
              "[<matplotlib.lines.Line2D at 0x7f4241096160>,\n",
              " <matplotlib.lines.Line2D at 0x7f4240fed160>]"
            ]
          },
          "metadata": {
            "tags": []
          },
          "execution_count": 215
        },
        {
          "output_type": "display_data",
          "data": {
            "image/png": "[encoded data removed]",
            "text/plain": [
              "<Figure size 432x288 with 1 Axes>"
            ]
          },
          "metadata": {
            "tags": [],
            "needs_background": "light"
          }
        }
      ]
    },
    {
      "cell_type": "code",
      "metadata": {
        "id": "Tgkfb3YRmu3n",
        "colab_type": "code",
        "outputId": "fed69b8e-8c11-4b21-ca6c-77016a188f3b",
        "colab": {
          "base_uri": "https://localhost:8080/",
          "height": 398
        }
      },
      "source": [
        "\n",
        "from pandas import read_csv\n",
        "from matplotlib import pyplot\n",
        "series = read_csv(\"/content/drive/My Drive/taskgive/train_csv.csv\", header=0, index_col=0)\n",
        "print(series.head())\n",
        "series.plot()\n",
        "pyplot.show()\n"
      ],
      "execution_count": 0,
      "outputs": [
        {
          "output_type": "stream",
          "text": [
            "                   time  feature\n",
            "id                              \n",
            "0   2019-03-19 00:00:00   237.97\n",
            "1   2019-03-19 00:00:10    57.93\n",
            "2   2019-03-19 00:00:20    90.53\n",
            "3   2019-03-19 00:00:30   260.75\n",
            "4   2019-03-19 00:00:40    49.70\n"
          ],
          "name": "stdout"
        },
        {
          "output_type": "display_data",
          "data": {
            "image/png": "[encoded data removed]",
            "text/plain": [
              "<Figure size 432x288 with 1 Axes>"
            ]
          },
          "metadata": {
            "tags": [],
            "needs_background": "light"
          }
        }
      ]
    },
    {
      "cell_type": "code",
      "metadata": {
        "id": "UuSLUg4F6R2z",
        "colab_type": "code",
        "colab": {}
      },
      "source": [
        "scaler = MinMaxScaler(feature_range=(0, 1))\n",
        "train_dfs = scaler.fit_transform(train_df)\n",
        "test_dfs = scaler.fit_transform(test_df)"
      ],
      "execution_count": 0,
      "outputs": []
    },
    {
      "cell_type": "code",
      "metadata": {
        "id": "nnLYhhNYIgxc",
        "colab_type": "code",
        "colab": {}
      },
      "source": [
        "from sklearn.svm import SVR\n",
        "from sklearn.model_selection import GridSearchCV\n",
        "import numpy as np\n",
        "from sklearn.pipeline import make_pipeline\n",
        "from sklearn.model_selection import GridSearchCV\n",
        "from sklearn.metrics import mean_squared_error\n",
        "from sklearn.neighbors import KNeighborsRegressor\n",
        "from tensorflow.keras.callbacks import ModelCheckpoint\n",
        "from pyGRNN import GRNN\n",
        "from sklearn.metrics import mean_squared_error as MSE\n",
        "from sklearn.preprocessing import MinMaxScaler\n",
        "from tensorflow.python.keras.layers import Dense\n",
        "from tensorflow.python.keras import Sequential\n",
        "#from tensorflow.python.keras import LSTM\n",
        "#from tensorflow.python.keras import Dropout\n"
      ],
      "execution_count": 0,
      "outputs": []
    },
    {
      "cell_type": "code",
      "metadata": {
        "id": "do4kFd3kR1Xp",
        "colab_type": "code",
        "outputId": "3c579ef5-ae2d-429a-f40f-b8d2cda03020",
        "colab": {
          "base_uri": "https://localhost:8080/",
          "height": 419
        }
      },
      "source": [
        "train_df"
      ],
      "execution_count": 0,
      "outputs": [
        {
          "output_type": "execute_result",
          "data": {
            "text/html": [
              "<div>\n",
              "<style scoped>\n",
              "    .dataframe tbody tr th:only-of-type {\n",
              "        vertical-align: middle;\n",
              "    }\n",
              "\n",
              "    .dataframe tbody tr th {\n",
              "        vertical-align: top;\n",
              "    }\n",
              "\n",
              "    .dataframe thead th {\n",
              "        text-align: right;\n",
              "    }\n",
              "</style>\n",
              "<table border=\"1\" class=\"dataframe\">\n",
              "  <thead>\n",
              "    <tr style=\"text-align: right;\">\n",
              "      <th></th>\n",
              "      <th>second</th>\n",
              "      <th>day</th>\n",
              "      <th>month</th>\n",
              "      <th>year</th>\n",
              "    </tr>\n",
              "  </thead>\n",
              "  <tbody>\n",
              "    <tr>\n",
              "      <th>0</th>\n",
              "      <td>0</td>\n",
              "      <td>19</td>\n",
              "      <td>03</td>\n",
              "      <td>2019</td>\n",
              "    </tr>\n",
              "    <tr>\n",
              "      <th>1</th>\n",
              "      <td>10</td>\n",
              "      <td>19</td>\n",
              "      <td>03</td>\n",
              "      <td>2019</td>\n",
              "    </tr>\n",
              "    <tr>\n",
              "      <th>2</th>\n",
              "      <td>20</td>\n",
              "      <td>19</td>\n",
              "      <td>03</td>\n",
              "      <td>2019</td>\n",
              "    </tr>\n",
              "    <tr>\n",
              "      <th>3</th>\n",
              "      <td>30</td>\n",
              "      <td>19</td>\n",
              "      <td>03</td>\n",
              "      <td>2019</td>\n",
              "    </tr>\n",
              "    <tr>\n",
              "      <th>4</th>\n",
              "      <td>40</td>\n",
              "      <td>19</td>\n",
              "      <td>03</td>\n",
              "      <td>2019</td>\n",
              "    </tr>\n",
              "    <tr>\n",
              "      <th>...</th>\n",
              "      <td>...</td>\n",
              "      <td>...</td>\n",
              "      <td>...</td>\n",
              "      <td>...</td>\n",
              "    </tr>\n",
              "    <tr>\n",
              "      <th>75</th>\n",
              "      <td>750</td>\n",
              "      <td>19</td>\n",
              "      <td>03</td>\n",
              "      <td>2019</td>\n",
              "    </tr>\n",
              "    <tr>\n",
              "      <th>76</th>\n",
              "      <td>760</td>\n",
              "      <td>19</td>\n",
              "      <td>03</td>\n",
              "      <td>2019</td>\n",
              "    </tr>\n",
              "    <tr>\n",
              "      <th>77</th>\n",
              "      <td>770</td>\n",
              "      <td>19</td>\n",
              "      <td>03</td>\n",
              "      <td>2019</td>\n",
              "    </tr>\n",
              "    <tr>\n",
              "      <th>78</th>\n",
              "      <td>780</td>\n",
              "      <td>19</td>\n",
              "      <td>03</td>\n",
              "      <td>2019</td>\n",
              "    </tr>\n",
              "    <tr>\n",
              "      <th>79</th>\n",
              "      <td>790</td>\n",
              "      <td>19</td>\n",
              "      <td>03</td>\n",
              "      <td>2019</td>\n",
              "    </tr>\n",
              "  </tbody>\n",
              "</table>\n",
              "<p>80 rows × 4 columns</p>\n",
              "</div>"
            ],
            "text/plain": [
              "    second day month  year\n",
              "0        0  19    03  2019\n",
              "1       10  19    03  2019\n",
              "2       20  19    03  2019\n",
              "3       30  19    03  2019\n",
              "4       40  19    03  2019\n",
              "..     ...  ..   ...   ...\n",
              "75     750  19    03  2019\n",
              "76     760  19    03  2019\n",
              "77     770  19    03  2019\n",
              "78     780  19    03  2019\n",
              "79     790  19    03  2019\n",
              "\n",
              "[80 rows x 4 columns]"
            ]
          },
          "metadata": {
            "tags": []
          },
          "execution_count": 218
        }
      ]
    },
    {
      "cell_type": "markdown",
      "metadata": {
        "id": "eKbPyn7JzMlp",
        "colab_type": "text"
      },
      "source": [
        "# Models Used"
      ]
    },
    {
      "cell_type": "markdown",
      "metadata": {
        "id": "TuD8qHyryKPu",
        "colab_type": "text"
      },
      "source": [
        "\n",
        "\n",
        "*   Using the models which will perform best for time series regression dataset\n",
        "*   I have showing those models that atleast gave me some results migth be good or bad.This is where I came to know more how to handle time series data \n",
        "\n",
        "\n",
        "\n"
      ]
    },
    {
      "cell_type": "markdown",
      "metadata": {
        "id": "JdGO0l0vI78F",
        "colab_type": "text"
      },
      "source": [
        "# SVR"
      ]
    },
    {
      "cell_type": "code",
      "metadata": {
        "id": "rKhLJhIU_ddw",
        "colab_type": "code",
        "outputId": "24993a8b-7d12-4c37-820f-815fbc73ab53",
        "colab": {
          "base_uri": "https://localhost:8080/",
          "height": 34
        }
      },
      "source": [
        "\n",
        "Cs = [0.001, 0.01, 0.1, 1, 10,100,1000]\n",
        "gammas = [0.001, 0.01, 0.1, 1]\n",
        "k=['linear', 'poly', 'rbf', 'sigmoid', 'precomputed']\n",
        "param_grid = {'C': Cs, 'gamma' : gammas}\n",
        "grid_search = GridSearchCV(SVR(kernel='rbf'), param_grid, cv=10)\n",
        "grid_search.fit(train_df,ytrain)\n",
        "grid_search.best_params_\n"
      ],
      "execution_count": 0,
      "outputs": [
        {
          "output_type": "execute_result",
          "data": {
            "text/plain": [
              "{'C': 100, 'gamma': 0.001}"
            ]
          },
          "metadata": {
            "tags": []
          },
          "execution_count": 242
        }
      ]
    },
    {
      "cell_type": "markdown",
      "metadata": {
        "id": "kCTPDCPKv4g2",
        "colab_type": "text"
      },
      "source": [
        "getting the best parameters"
      ]
    },
    {
      "cell_type": "code",
      "metadata": {
        "id": "LsuR-RFYwPZR",
        "colab_type": "code",
        "outputId": "f76ab574-41cd-4f5d-ba28-97ce36c28517",
        "colab": {
          "base_uri": "https://localhost:8080/",
          "height": 34
        }
      },
      "source": [
        "print(-grid_search.best_score_)"
      ],
      "execution_count": 0,
      "outputs": [
        {
          "output_type": "stream",
          "text": [
            "3.742307185613428\n"
          ],
          "name": "stdout"
        }
      ]
    },
    {
      "cell_type": "code",
      "metadata": {
        "id": "g8DF2MA1gtbB",
        "colab_type": "code",
        "colab": {}
      },
      "source": [
        "my_model = grid_search.best_estimator_"
      ],
      "execution_count": 0,
      "outputs": []
    },
    {
      "cell_type": "code",
      "metadata": {
        "id": "oYVemTULgoOh",
        "colab_type": "code",
        "outputId": "45d2ceb1-467a-4bf1-f501-aebb6c55b108",
        "colab": {
          "base_uri": "https://localhost:8080/",
          "height": 34
        }
      },
      "source": [
        "my_model.fit(train_df,ytrain)\n",
        "y_pre = my_model.predict(train_df)\n",
        "y_predicted = my_model.predict(test_df)\n",
        "\n",
        "mse = np.mean((y_pre - ytrain) ** 2)\n",
        "mse"
      ],
      "execution_count": 0,
      "outputs": [
        {
          "output_type": "execute_result",
          "data": {
            "text/plain": [
              "4878.871625386955"
            ]
          },
          "metadata": {
            "tags": []
          },
          "execution_count": 245
        }
      ]
    },
    {
      "cell_type": "code",
      "metadata": {
        "id": "NkRtk4MGIYlO",
        "colab_type": "code",
        "outputId": "337add20-1863-4358-ac75-171079e55a7b",
        "colab": {
          "base_uri": "https://localhost:8080/",
          "height": 187
        }
      },
      "source": [
        "y_predicted"
      ],
      "execution_count": 0,
      "outputs": [
        {
          "output_type": "execute_result",
          "data": {
            "text/plain": [
              "array([127.409578  , 137.00251465, 140.88369787, 139.63396623,\n",
              "       136.97785119, 135.09001224, 134.21727569, 133.92127249,\n",
              "       133.84415405, 133.82836494, 133.82579141, 133.82545476,\n",
              "       133.82541923, 133.8254162 , 133.82541598, 133.82541597,\n",
              "       133.82541597, 133.82541597, 133.82541597, 133.82541597,\n",
              "       133.82541597, 133.82541597, 133.82541597, 133.82541597,\n",
              "       133.82541597, 133.82541597, 133.82541597, 133.82541597,\n",
              "       133.82541597, 133.82541597, 133.82541597, 133.82541597,\n",
              "       133.82541597, 133.82541597, 133.82541597, 133.82541597,\n",
              "       133.82541597, 133.82541597, 133.82541597, 133.82541597])"
            ]
          },
          "metadata": {
            "tags": []
          },
          "execution_count": 246
        }
      ]
    },
    {
      "cell_type": "code",
      "metadata": {
        "id": "fr_tvrMX_da-",
        "colab_type": "code",
        "outputId": "084acd8b-4adf-4dc3-fdb9-46e3b004bce7",
        "colab": {
          "base_uri": "https://localhost:8080/",
          "height": 34
        }
      },
      "source": [
        "import numpy as np\n",
        "mse = np.mean((y_pre - ytrain) ** 2)\n",
        "mse"
      ],
      "execution_count": 0,
      "outputs": [
        {
          "output_type": "execute_result",
          "data": {
            "text/plain": [
              "4878.871625386955"
            ]
          },
          "metadata": {
            "tags": []
          },
          "execution_count": 247
        }
      ]
    },
    {
      "cell_type": "code",
      "metadata": {
        "id": "wb39Ef9MIm3f",
        "colab_type": "code",
        "colab": {}
      },
      "source": [
        "solution = pd.DataFrame ()\n",
        "solution['id']=testid\n",
        "solution['feature']=y_predicted\n",
        "solution.to_csv('/content/solutionsvr.csv',index=False)"
      ],
      "execution_count": 0,
      "outputs": []
    },
    {
      "cell_type": "code",
      "metadata": {
        "id": "Yw6rs8LbKFro",
        "colab_type": "code",
        "colab": {}
      },
      "source": [
        ""
      ],
      "execution_count": 0,
      "outputs": []
    },
    {
      "cell_type": "code",
      "metadata": {
        "id": "lT-jwr3hKFpO",
        "colab_type": "code",
        "colab": {}
      },
      "source": [
        "from sklearn import tree"
      ],
      "execution_count": 0,
      "outputs": []
    },
    {
      "cell_type": "markdown",
      "metadata": {
        "id": "Hv2Y7KiEU3LA",
        "colab_type": "text"
      },
      "source": [
        "# DecisionTreeRegressor"
      ]
    },
    {
      "cell_type": "code",
      "metadata": {
        "id": "2Ob4J7ShKFmd",
        "colab_type": "code",
        "colab": {}
      },
      "source": [
        "from sklearn.pipeline import make_pipeline\n",
        "from sklearn.model_selection import GridSearchCV\n",
        "from sklearn.metrics import mean_squared_error\n",
        "depths = np.arange(1, 21)\n",
        "num_leafs = [1, 5, 10, 20, 50, 100]\n",
        "pipe_tree = make_pipeline(tree.DecisionTreeRegressor(random_state=1))\n",
        "param_grid = [{'decisiontreeregressor__max_depth':depths,\n",
        "              'decisiontreeregressor__min_samples_leaf':num_leafs}]\n",
        "\n",
        "gs = GridSearchCV(estimator=pipe_tree, param_grid=param_grid, scoring='neg_root_mean_squared_error', cv=10)              "
      ],
      "execution_count": 0,
      "outputs": []
    },
    {
      "cell_type": "code",
      "metadata": {
        "id": "zJouF6nMK2Wk",
        "colab_type": "code",
        "colab": {}
      },
      "source": [
        "gs = gs.fit(train_df,ytrain)"
      ],
      "execution_count": 0,
      "outputs": []
    },
    {
      "cell_type": "code",
      "metadata": {
        "id": "sZ4V-jrtL_vN",
        "colab_type": "code",
        "outputId": "6512c6b3-2087-4578-c3fa-eebb5b7abc22",
        "colab": {
          "base_uri": "https://localhost:8080/",
          "height": 34
        }
      },
      "source": [
        "print(-gs.best_score_)"
      ],
      "execution_count": 0,
      "outputs": [
        {
          "output_type": "stream",
          "text": [
            "85.61597184969106\n"
          ],
          "name": "stdout"
        }
      ]
    },
    {
      "cell_type": "code",
      "metadata": {
        "id": "7s5sSo4oMIXU",
        "colab_type": "code",
        "outputId": "82bf12f5-444c-4cab-fe59-c54aee50a912",
        "colab": {
          "base_uri": "https://localhost:8080/",
          "height": 34
        }
      },
      "source": [
        "print(gs.best_params_)"
      ],
      "execution_count": 0,
      "outputs": [
        {
          "output_type": "stream",
          "text": [
            "{'decisiontreeregressor__max_depth': 3, 'decisiontreeregressor__min_samples_leaf': 5}\n"
          ],
          "name": "stdout"
        }
      ]
    },
    {
      "cell_type": "code",
      "metadata": {
        "id": "-36H8eKPMKId",
        "colab_type": "code",
        "colab": {}
      },
      "source": [
        "my_model = gs.best_estimator_"
      ],
      "execution_count": 0,
      "outputs": []
    },
    {
      "cell_type": "code",
      "metadata": {
        "id": "vYD5KCArMKGb",
        "colab_type": "code",
        "outputId": "9d59fcb6-ee14-4729-b0c8-bfc0240b6800",
        "colab": {
          "base_uri": "https://localhost:8080/",
          "height": 34
        }
      },
      "source": [
        "my_model.fit(train_df,ytrain)\n",
        "y_pre = my_model.predict(train_df)\n",
        "y_predicted = my_model.predict(test_df)\n",
        "import numpy as np\n",
        "mse = np.mean((y_pre - ytrain) ** 2)\n",
        "mse"
      ],
      "execution_count": 0,
      "outputs": [
        {
          "output_type": "execute_result",
          "data": {
            "text/plain": [
              "5627.213254203704"
            ]
          },
          "metadata": {
            "tags": []
          },
          "execution_count": 255
        }
      ]
    },
    {
      "cell_type": "code",
      "metadata": {
        "id": "Rllk1-_uMKD1",
        "colab_type": "code",
        "colab": {}
      },
      "source": [
        "solution = pd.DataFrame ()\n",
        "solution['id']=testid\n",
        "solution['feature']=y_predicted\n",
        "solution.to_csv('/content/solution.csv',index=False)"
      ],
      "execution_count": 0,
      "outputs": []
    },
    {
      "cell_type": "code",
      "metadata": {
        "id": "BnBT5q5yMKAs",
        "colab_type": "code",
        "colab": {}
      },
      "source": [
        ""
      ],
      "execution_count": 0,
      "outputs": []
    },
    {
      "cell_type": "markdown",
      "metadata": {
        "id": "RHFQoZkCXmTw",
        "colab_type": "text"
      },
      "source": [
        "# KNN"
      ]
    },
    {
      "cell_type": "code",
      "metadata": {
        "id": "IeWNjd5CImvU",
        "colab_type": "code",
        "outputId": "5df6b1c6-ac0f-4f3a-9320-b2df5caed5d7",
        "colab": {
          "base_uri": "https://localhost:8080/",
          "height": 309
        }
      },
      "source": [
        "\n",
        "k_range = list(range(1,31))\n",
        "weight_options = [\"uniform\", \"distance\"]\n",
        "algorithms =['auto', 'ball_tree', 'kd_tree', 'brute']\n",
        "\n",
        "param_grid = [{'n_neighbors':k_range, 'weights':weight_options,'algorithm':algorithms}]\n",
        "print (param_grid)\n",
        "knn = KNeighborsRegressor()\n",
        "\n",
        "grid = GridSearchCV(knn, param_grid, cv = 10, scoring = 'neg_root_mean_squared_error')\n",
        "grid.fit(train_df,ytrain)"
      ],
      "execution_count": 0,
      "outputs": [
        {
          "output_type": "stream",
          "text": [
            "[{'n_neighbors': [1, 2, 3, 4, 5, 6, 7, 8, 9, 10, 11, 12, 13, 14, 15, 16, 17, 18, 19, 20, 21, 22, 23, 24, 25, 26, 27, 28, 29, 30], 'weights': ['uniform', 'distance'], 'algorithm': ['auto', 'ball_tree', 'kd_tree', 'brute']}]\n"
          ],
          "name": "stdout"
        },
        {
          "output_type": "execute_result",
          "data": {
            "text/plain": [
              "GridSearchCV(cv=10, error_score=nan,\n",
              "             estimator=KNeighborsRegressor(algorithm='auto', leaf_size=30,\n",
              "                                           metric='minkowski',\n",
              "                                           metric_params=None, n_jobs=None,\n",
              "                                           n_neighbors=5, p=2,\n",
              "                                           weights='uniform'),\n",
              "             iid='deprecated', n_jobs=None,\n",
              "             param_grid=[{'algorithm': ['auto', 'ball_tree', 'kd_tree',\n",
              "                                        'brute'],\n",
              "                          'n_neighbors': [1, 2, 3, 4, 5, 6, 7, 8, 9, 10, 11, 12,\n",
              "                                          13, 14, 15, 16, 17, 18, 19, 20, 21,\n",
              "                                          22, 23, 24, 25, 26, 27, 28, 29, 30],\n",
              "                          'weights': ['uniform', 'distance']}],\n",
              "             pre_dispatch='2*n_jobs', refit=True, return_train_score=False,\n",
              "             scoring='neg_root_mean_squared_error', verbose=0)"
            ]
          },
          "metadata": {
            "tags": []
          },
          "execution_count": 257
        }
      ]
    },
    {
      "cell_type": "code",
      "metadata": {
        "id": "EQXIiVP_YVP_",
        "colab_type": "code",
        "outputId": "a2a4d5fe-72dc-4e2a-bc6f-e534d513a6db",
        "colab": {
          "base_uri": "https://localhost:8080/",
          "height": 34
        }
      },
      "source": [
        "print(-grid.best_score_)"
      ],
      "execution_count": 0,
      "outputs": [
        {
          "output_type": "stream",
          "text": [
            "88.29320891067673\n"
          ],
          "name": "stdout"
        }
      ]
    },
    {
      "cell_type": "code",
      "metadata": {
        "id": "-HJ4LXtxYc1C",
        "colab_type": "code",
        "outputId": "526fa8e3-7024-4a2d-be48-bed14c32b98b",
        "colab": {
          "base_uri": "https://localhost:8080/",
          "height": 34
        }
      },
      "source": [
        "print(grid.best_params_)"
      ],
      "execution_count": 0,
      "outputs": [
        {
          "output_type": "stream",
          "text": [
            "{'algorithm': 'auto', 'n_neighbors': 3, 'weights': 'uniform'}\n"
          ],
          "name": "stdout"
        }
      ]
    },
    {
      "cell_type": "code",
      "metadata": {
        "id": "Nbp1GCrLYcyQ",
        "colab_type": "code",
        "colab": {}
      },
      "source": [
        "my_model = grid.best_estimator_"
      ],
      "execution_count": 0,
      "outputs": []
    },
    {
      "cell_type": "code",
      "metadata": {
        "id": "7oepRPrJYcvI",
        "colab_type": "code",
        "outputId": "c826f777-f294-4028-8fc9-54b87ec062e1",
        "colab": {
          "base_uri": "https://localhost:8080/",
          "height": 34
        }
      },
      "source": [
        "my_model.fit(train_df,ytrain)\n",
        "y_pre = my_model.predict(train_df)\n",
        "y_predicted = my_model.predict(test_df)\n",
        "import numpy as np\n",
        "mse = np.mean((y_pre - ytrain) ** 2)\n",
        "mse"
      ],
      "execution_count": 0,
      "outputs": [
        {
          "output_type": "execute_result",
          "data": {
            "text/plain": [
              "3525.3114823611113"
            ]
          },
          "metadata": {
            "tags": []
          },
          "execution_count": 261
        }
      ]
    },
    {
      "cell_type": "code",
      "metadata": {
        "id": "Myk2dwv6Yct2",
        "colab_type": "code",
        "colab": {}
      },
      "source": [
        "solution = pd.DataFrame ()\n",
        "solution['id']=test_df['id']\n",
        "solution['feature']=y_predicted\n",
        "solution.to_csv('/content/solution.csv',index=False)"
      ],
      "execution_count": 0,
      "outputs": []
    },
    {
      "cell_type": "markdown",
      "metadata": {
        "id": "l68EVP3H4bKu",
        "colab_type": "text"
      },
      "source": [
        "# MLP Model"
      ]
    },
    {
      "cell_type": "markdown",
      "metadata": {
        "id": "bg-s_9h_wW93",
        "colab_type": "text"
      },
      "source": [
        "I know that deep learning models will not perform well but just want to try it out"
      ]
    },
    {
      "cell_type": "code",
      "metadata": {
        "id": "CQUQtmQIYcqO",
        "colab_type": "code",
        "outputId": "367b2951-e8a6-4651-f997-3cc6a9c32d51",
        "colab": {
          "base_uri": "https://localhost:8080/",
          "height": 34
        }
      },
      "source": [
        ""
      ],
      "execution_count": 0,
      "outputs": [
        {
          "output_type": "stream",
          "text": [
            "Using TensorFlow backend.\n"
          ],
          "name": "stderr"
        }
      ]
    },
    {
      "cell_type": "code",
      "metadata": {
        "id": "jpMbR4BwQvMG",
        "colab_type": "code",
        "colab": {}
      },
      "source": [
        ""
      ],
      "execution_count": 0,
      "outputs": []
    },
    {
      "cell_type": "code",
      "metadata": {
        "id": "M5kzbZjbOvJ9",
        "colab_type": "code",
        "colab": {}
      },
      "source": [
        "from keras import backend as K\n",
        "def root_mean_squared_error(y_true, y_pred):\n",
        "        return K.sqrt(K.mean(K.square(y_pred - y_true), axis=-1)) "
      ],
      "execution_count": 0,
      "outputs": []
    },
    {
      "cell_type": "code",
      "metadata": {
        "id": "DiAX1c-LPPAk",
        "colab_type": "code",
        "outputId": "c1d38af9-90e8-4ade-8229-712873cf7b56",
        "colab": {
          "base_uri": "https://localhost:8080/",
          "height": 34
        }
      },
      "source": [
        "train_dfs[1].shape"
      ],
      "execution_count": 0,
      "outputs": [
        {
          "output_type": "execute_result",
          "data": {
            "text/plain": [
              "(4,)"
            ]
          },
          "metadata": {
            "tags": []
          },
          "execution_count": 263
        }
      ]
    },
    {
      "cell_type": "code",
      "metadata": {
        "id": "YknNX_PxRjxH",
        "colab_type": "code",
        "colab": {}
      },
      "source": [
        "#from keras.callbacks import ModelCheckpoint,TensorBoard,ReduceLROnPlateau, EarlyStopping\n",
        "\n",
        "from tensorflow.keras.callbacks import ModelCheckpoint\n",
        "checkpointer = ModelCheckpoint(\"/content/drive/My Drive/seach/model1/modelll.hdf5\", monitor = \"loss\", save_best_only = True, mode=\"min\",verbose=1)\n",
        "callbacks_1 = [checkpointer]"
      ],
      "execution_count": 0,
      "outputs": []
    },
    {
      "cell_type": "code",
      "metadata": {
        "id": "v2kMDQqAS0JU",
        "colab_type": "code",
        "colab": {}
      },
      "source": [
        ""
      ],
      "execution_count": 0,
      "outputs": []
    },
    {
      "cell_type": "code",
      "metadata": {
        "id": "aYCZzFO94dhN",
        "colab_type": "code",
        "outputId": "b7d19db7-a6b9-439d-8742-8146e1fc3f29",
        "colab": {
          "base_uri": "https://localhost:8080/",
          "height": 1000
        }
      },
      "source": [
        "model = Sequential()\n",
        "model.add(Dense(100, activation='relu'))\n",
        "model.add(Dense(50, activation='relu'))\n",
        "model.add(Dense(1))\n",
        "model.compile(optimizer='adam', loss=root_mean_squared_error)\n",
        "# fit model\n",
        "model.fit(train_dfs,ytrain, epochs=200, verbose=1,callbacks = callbacks_1)"
      ],
      "execution_count": 0,
      "outputs": [
        {
          "output_type": "stream",
          "text": [
            "Epoch 1/200\n",
            "1/3 [=========>....................] - ETA: 0s - loss: 117.8559\n",
            "Epoch 00001: loss improved from inf to 148.74516, saving model to /content/drive/My Drive/seach/model1/modelll.hdf5\n",
            "3/3 [==============================] - 1s 471ms/step - loss: 148.7452\n",
            "Epoch 2/200\n",
            "1/3 [=========>....................] - ETA: 0s - loss: 146.8163\n",
            "Epoch 00002: loss improved from 148.74516 to 146.29686, saving model to /content/drive/My Drive/seach/model1/modelll.hdf5\n",
            "3/3 [==============================] - 0s 13ms/step - loss: 146.2969\n",
            "Epoch 3/200\n",
            "1/3 [=========>....................] - ETA: 0s - loss: 155.6090\n",
            "Epoch 00003: loss did not improve from 146.29686\n",
            "3/3 [==============================] - 0s 2ms/step - loss: 147.3642\n",
            "Epoch 4/200\n",
            "1/3 [=========>....................] - ETA: 0s - loss: 163.4967\n",
            "Epoch 00004: loss did not improve from 146.29686\n",
            "3/3 [==============================] - 0s 2ms/step - loss: 148.5052\n",
            "Epoch 5/200\n",
            "1/3 [=========>....................] - ETA: 0s - loss: 144.1284\n",
            "Epoch 00005: loss improved from 146.29686 to 143.37079, saving model to /content/drive/My Drive/seach/model1/modelll.hdf5\n",
            "3/3 [==============================] - 0s 12ms/step - loss: 143.3708\n",
            "Epoch 6/200\n",
            "1/3 [=========>....................] - ETA: 0s - loss: 123.7606\n",
            "Epoch 00006: loss did not improve from 143.37079\n",
            "3/3 [==============================] - 0s 3ms/step - loss: 147.3370\n",
            "Epoch 7/200\n",
            "1/3 [=========>....................] - ETA: 0s - loss: 139.5921\n",
            "Epoch 00007: loss did not improve from 143.37079\n",
            "3/3 [==============================] - 0s 2ms/step - loss: 147.2286\n",
            "Epoch 8/200\n",
            "1/3 [=========>....................] - ETA: 0s - loss: 152.2823\n",
            "Epoch 00008: loss did not improve from 143.37079\n",
            "3/3 [==============================] - 0s 2ms/step - loss: 144.5657\n",
            "Epoch 9/200\n",
            "1/3 [=========>....................] - ETA: 0s - loss: 143.2741\n",
            "Epoch 00009: loss did not improve from 143.37079\n",
            "3/3 [==============================] - 0s 2ms/step - loss: 148.3008\n",
            "Epoch 10/200\n",
            "1/3 [=========>....................] - ETA: 0s - loss: 150.6503\n",
            "Epoch 00010: loss did not improve from 143.37079\n",
            "3/3 [==============================] - 0s 2ms/step - loss: 144.0379\n",
            "Epoch 11/200\n",
            "1/3 [=========>....................] - ETA: 0s - loss: 128.3438\n",
            "Epoch 00011: loss did not improve from 143.37079\n",
            "3/3 [==============================] - 0s 2ms/step - loss: 151.6662\n",
            "Epoch 12/200\n",
            "1/3 [=========>....................] - ETA: 0s - loss: 151.9045\n",
            "Epoch 00012: loss improved from 143.37079 to 142.42902, saving model to /content/drive/My Drive/seach/model1/modelll.hdf5\n",
            "3/3 [==============================] - 0s 12ms/step - loss: 142.4290\n",
            "Epoch 13/200\n",
            "1/3 [=========>....................] - ETA: 0s - loss: 150.3900\n",
            "Epoch 00013: loss did not improve from 142.42902\n",
            "3/3 [==============================] - 0s 2ms/step - loss: 144.3704\n",
            "Epoch 14/200\n",
            "1/3 [=========>....................] - ETA: 0s - loss: 153.6005\n",
            "Epoch 00014: loss did not improve from 142.42902\n",
            "3/3 [==============================] - 0s 2ms/step - loss: 144.5036\n",
            "Epoch 15/200\n",
            "1/3 [=========>....................] - ETA: 0s - loss: 143.1072\n",
            "Epoch 00015: loss did not improve from 142.42902\n",
            "3/3 [==============================] - 0s 2ms/step - loss: 145.2344\n",
            "Epoch 16/200\n",
            "1/3 [=========>....................] - ETA: 0s - loss: 142.4056\n",
            "Epoch 00016: loss did not improve from 142.42902\n",
            "3/3 [==============================] - 0s 2ms/step - loss: 143.8257\n",
            "Epoch 17/200\n",
            "1/3 [=========>....................] - ETA: 0s - loss: 146.4217\n",
            "Epoch 00017: loss did not improve from 142.42902\n",
            "3/3 [==============================] - 0s 2ms/step - loss: 147.6118\n",
            "Epoch 18/200\n",
            "1/3 [=========>....................] - ETA: 0s - loss: 151.0282\n",
            "Epoch 00018: loss did not improve from 142.42902\n",
            "3/3 [==============================] - 0s 2ms/step - loss: 147.8440\n",
            "Epoch 19/200\n",
            "1/3 [=========>....................] - ETA: 0s - loss: 142.7663\n",
            "Epoch 00019: loss improved from 142.42902 to 139.46831, saving model to /content/drive/My Drive/seach/model1/modelll.hdf5\n",
            "3/3 [==============================] - 0s 12ms/step - loss: 139.4683\n",
            "Epoch 20/200\n",
            "1/3 [=========>....................] - ETA: 0s - loss: 146.2040\n",
            "Epoch 00020: loss did not improve from 139.46831\n",
            "3/3 [==============================] - 0s 2ms/step - loss: 150.7577\n",
            "Epoch 21/200\n",
            "1/3 [=========>....................] - ETA: 0s - loss: 143.3822\n",
            "Epoch 00021: loss did not improve from 139.46831\n",
            "3/3 [==============================] - 0s 3ms/step - loss: 147.1837\n",
            "Epoch 22/200\n",
            "1/3 [=========>....................] - ETA: 0s - loss: 147.6932\n",
            "Epoch 00022: loss did not improve from 139.46831\n",
            "3/3 [==============================] - 0s 2ms/step - loss: 149.9948\n",
            "Epoch 23/200\n",
            "1/3 [=========>....................] - ETA: 0s - loss: 142.6524\n",
            "Epoch 00023: loss did not improve from 139.46831\n",
            "3/3 [==============================] - 0s 2ms/step - loss: 150.5047\n",
            "Epoch 24/200\n",
            "1/3 [=========>....................] - ETA: 0s - loss: 144.5538\n",
            "Epoch 00024: loss did not improve from 139.46831\n",
            "3/3 [==============================] - 0s 2ms/step - loss: 140.5636\n",
            "Epoch 25/200\n",
            "1/3 [=========>....................] - ETA: 0s - loss: 156.9091\n",
            "Epoch 00025: loss did not improve from 139.46831\n",
            "3/3 [==============================] - 0s 2ms/step - loss: 146.4285\n",
            "Epoch 26/200\n",
            "1/3 [=========>....................] - ETA: 0s - loss: 151.3276\n",
            "Epoch 00026: loss did not improve from 139.46831\n",
            "3/3 [==============================] - 0s 2ms/step - loss: 144.9324\n",
            "Epoch 27/200\n",
            "1/3 [=========>....................] - ETA: 0s - loss: 138.1621\n",
            "Epoch 00027: loss did not improve from 139.46831\n",
            "3/3 [==============================] - 0s 2ms/step - loss: 145.7963\n",
            "Epoch 28/200\n",
            "1/3 [=========>....................] - ETA: 0s - loss: 135.8336\n",
            "Epoch 00028: loss did not improve from 139.46831\n",
            "3/3 [==============================] - 0s 2ms/step - loss: 147.5068\n",
            "Epoch 29/200\n",
            "1/3 [=========>....................] - ETA: 0s - loss: 155.2462\n",
            "Epoch 00029: loss did not improve from 139.46831\n",
            "3/3 [==============================] - 0s 2ms/step - loss: 140.7782\n",
            "Epoch 30/200\n",
            "1/3 [=========>....................] - ETA: 0s - loss: 159.1159\n",
            "Epoch 00030: loss improved from 139.46831 to 138.65909, saving model to /content/drive/My Drive/seach/model1/modelll.hdf5\n",
            "3/3 [==============================] - 0s 13ms/step - loss: 138.6591\n",
            "Epoch 31/200\n",
            "1/3 [=========>....................] - ETA: 0s - loss: 156.2945\n",
            "Epoch 00031: loss improved from 138.65909 to 135.87300, saving model to /content/drive/My Drive/seach/model1/modelll.hdf5\n",
            "3/3 [==============================] - 0s 14ms/step - loss: 135.8730\n",
            "Epoch 32/200\n",
            "1/3 [=========>....................] - ETA: 0s - loss: 136.6091\n",
            "Epoch 00032: loss did not improve from 135.87300\n",
            "3/3 [==============================] - 0s 2ms/step - loss: 142.4933\n",
            "Epoch 33/200\n",
            "1/3 [=========>....................] - ETA: 0s - loss: 149.6890\n",
            "Epoch 00033: loss did not improve from 135.87300\n",
            "3/3 [==============================] - 0s 2ms/step - loss: 137.3121\n",
            "Epoch 34/200\n",
            "1/3 [=========>....................] - ETA: 0s - loss: 128.4443\n",
            "Epoch 00034: loss did not improve from 135.87300\n",
            "3/3 [==============================] - 0s 3ms/step - loss: 141.5244\n",
            "Epoch 35/200\n",
            "1/3 [=========>....................] - ETA: 0s - loss: 147.7058\n",
            "Epoch 00035: loss improved from 135.87300 to 134.71632, saving model to /content/drive/My Drive/seach/model1/modelll.hdf5\n",
            "3/3 [==============================] - 0s 14ms/step - loss: 134.7163\n",
            "Epoch 36/200\n",
            "1/3 [=========>....................] - ETA: 0s - loss: 132.2805\n",
            "Epoch 00036: loss did not improve from 134.71632\n",
            "3/3 [==============================] - 0s 2ms/step - loss: 139.0011\n",
            "Epoch 37/200\n",
            "1/3 [=========>....................] - ETA: 0s - loss: 121.7127\n",
            "Epoch 00037: loss did not improve from 134.71632\n",
            "3/3 [==============================] - 0s 2ms/step - loss: 143.4969\n",
            "Epoch 38/200\n",
            "1/3 [=========>....................] - ETA: 0s - loss: 165.7871\n",
            "Epoch 00038: loss improved from 134.71632 to 130.08824, saving model to /content/drive/My Drive/seach/model1/modelll.hdf5\n",
            "3/3 [==============================] - 0s 13ms/step - loss: 130.0882\n",
            "Epoch 39/200\n",
            "1/3 [=========>....................] - ETA: 0s - loss: 132.2150\n",
            "Epoch 00039: loss did not improve from 130.08824\n",
            "3/3 [==============================] - 0s 3ms/step - loss: 133.7846\n",
            "Epoch 40/200\n",
            "1/3 [=========>....................] - ETA: 0s - loss: 123.8062\n",
            "Epoch 00040: loss improved from 130.08824 to 128.20764, saving model to /content/drive/My Drive/seach/model1/modelll.hdf5\n",
            "3/3 [==============================] - 0s 12ms/step - loss: 128.2076\n",
            "Epoch 41/200\n",
            "1/3 [=========>....................] - ETA: 0s - loss: 146.3816\n",
            "Epoch 00041: loss improved from 128.20764 to 124.67734, saving model to /content/drive/My Drive/seach/model1/modelll.hdf5\n",
            "3/3 [==============================] - 0s 13ms/step - loss: 124.6773\n",
            "Epoch 42/200\n",
            "1/3 [=========>....................] - ETA: 0s - loss: 123.7528\n",
            "Epoch 00042: loss did not improve from 124.67734\n",
            "3/3 [==============================] - 0s 3ms/step - loss: 136.2061\n",
            "Epoch 43/200\n",
            "1/3 [=========>....................] - ETA: 0s - loss: 127.2833\n",
            "Epoch 00043: loss did not improve from 124.67734\n",
            "3/3 [==============================] - 0s 2ms/step - loss: 128.3741\n",
            "Epoch 44/200\n",
            "1/3 [=========>....................] - ETA: 0s - loss: 141.0094\n",
            "Epoch 00044: loss did not improve from 124.67734\n",
            "3/3 [==============================] - 0s 2ms/step - loss: 126.0315\n",
            "Epoch 45/200\n",
            "1/3 [=========>....................] - ETA: 0s - loss: 135.8026\n",
            "Epoch 00045: loss improved from 124.67734 to 124.56216, saving model to /content/drive/My Drive/seach/model1/modelll.hdf5\n",
            "3/3 [==============================] - 0s 13ms/step - loss: 124.5622\n",
            "Epoch 46/200\n",
            "1/3 [=========>....................] - ETA: 0s - loss: 126.2898\n",
            "Epoch 00046: loss improved from 124.56216 to 121.27920, saving model to /content/drive/My Drive/seach/model1/modelll.hdf5\n",
            "3/3 [==============================] - 0s 14ms/step - loss: 121.2792\n",
            "Epoch 47/200\n",
            "1/3 [=========>....................] - ETA: 0s - loss: 123.5775\n",
            "Epoch 00047: loss improved from 121.27920 to 119.24017, saving model to /content/drive/My Drive/seach/model1/modelll.hdf5\n",
            "3/3 [==============================] - 0s 14ms/step - loss: 119.2402\n",
            "Epoch 48/200\n",
            "1/3 [=========>....................] - ETA: 0s - loss: 100.2255\n",
            "Epoch 00048: loss improved from 119.24017 to 116.61924, saving model to /content/drive/My Drive/seach/model1/modelll.hdf5\n",
            "3/3 [==============================] - 0s 16ms/step - loss: 116.6192\n",
            "Epoch 49/200\n",
            "1/3 [=========>....................] - ETA: 0s - loss: 130.4137\n",
            "Epoch 00049: loss did not improve from 116.61924\n",
            "3/3 [==============================] - 0s 2ms/step - loss: 119.7879\n",
            "Epoch 50/200\n",
            "1/3 [=========>....................] - ETA: 0s - loss: 142.3927\n",
            "Epoch 00050: loss improved from 116.61924 to 114.08262, saving model to /content/drive/My Drive/seach/model1/modelll.hdf5\n",
            "3/3 [==============================] - 0s 15ms/step - loss: 114.0826\n",
            "Epoch 51/200\n",
            "1/3 [=========>....................] - ETA: 0s - loss: 98.6140\n",
            "Epoch 00051: loss did not improve from 114.08262\n",
            "3/3 [==============================] - 0s 2ms/step - loss: 118.6515\n",
            "Epoch 52/200\n",
            "1/3 [=========>....................] - ETA: 0s - loss: 123.2730\n",
            "Epoch 00052: loss improved from 114.08262 to 111.16239, saving model to /content/drive/My Drive/seach/model1/modelll.hdf5\n",
            "3/3 [==============================] - 0s 14ms/step - loss: 111.1624\n",
            "Epoch 53/200\n",
            "1/3 [=========>....................] - ETA: 0s - loss: 109.8506\n",
            "Epoch 00053: loss improved from 111.16239 to 106.60498, saving model to /content/drive/My Drive/seach/model1/modelll.hdf5\n",
            "3/3 [==============================] - 0s 16ms/step - loss: 106.6050\n",
            "Epoch 54/200\n",
            "1/3 [=========>....................] - ETA: 0s - loss: 106.1979\n",
            "Epoch 00054: loss did not improve from 106.60498\n",
            "3/3 [==============================] - 0s 3ms/step - loss: 108.9186\n",
            "Epoch 55/200\n",
            "1/3 [=========>....................] - ETA: 0s - loss: 123.4593\n",
            "Epoch 00055: loss improved from 106.60498 to 101.97781, saving model to /content/drive/My Drive/seach/model1/modelll.hdf5\n",
            "3/3 [==============================] - 0s 13ms/step - loss: 101.9778\n",
            "Epoch 56/200\n",
            "1/3 [=========>....................] - ETA: 0s - loss: 106.7858\n",
            "Epoch 00056: loss did not improve from 101.97781\n",
            "3/3 [==============================] - 0s 2ms/step - loss: 105.8497\n",
            "Epoch 57/200\n",
            "1/3 [=========>....................] - ETA: 0s - loss: 122.7264\n",
            "Epoch 00057: loss improved from 101.97781 to 98.63129, saving model to /content/drive/My Drive/seach/model1/modelll.hdf5\n",
            "3/3 [==============================] - 0s 12ms/step - loss: 98.6313\n",
            "Epoch 58/200\n",
            "1/3 [=========>....................] - ETA: 0s - loss: 113.3411\n",
            "Epoch 00058: loss improved from 98.63129 to 98.26224, saving model to /content/drive/My Drive/seach/model1/modelll.hdf5\n",
            "3/3 [==============================] - 0s 12ms/step - loss: 98.2622\n",
            "Epoch 59/200\n",
            "1/3 [=========>....................] - ETA: 0s - loss: 108.9091\n",
            "Epoch 00059: loss did not improve from 98.26224\n",
            "3/3 [==============================] - 0s 2ms/step - loss: 99.3862\n",
            "Epoch 60/200\n",
            "1/3 [=========>....................] - ETA: 0s - loss: 84.3108\n",
            "Epoch 00060: loss did not improve from 98.26224\n",
            "3/3 [==============================] - 0s 2ms/step - loss: 104.6251\n",
            "Epoch 61/200\n",
            "1/3 [=========>....................] - ETA: 0s - loss: 114.5660\n",
            "Epoch 00061: loss did not improve from 98.26224\n",
            "3/3 [==============================] - 0s 2ms/step - loss: 100.1802\n",
            "Epoch 62/200\n",
            "1/3 [=========>....................] - ETA: 0s - loss: 94.2636\n",
            "Epoch 00062: loss improved from 98.26224 to 91.55698, saving model to /content/drive/My Drive/seach/model1/modelll.hdf5\n",
            "3/3 [==============================] - 0s 12ms/step - loss: 91.5570\n",
            "Epoch 63/200\n",
            "1/3 [=========>....................] - ETA: 0s - loss: 78.4141\n",
            "Epoch 00063: loss did not improve from 91.55698\n",
            "3/3 [==============================] - 0s 2ms/step - loss: 96.3808\n",
            "Epoch 64/200\n",
            "1/3 [=========>....................] - ETA: 0s - loss: 72.9202\n",
            "Epoch 00064: loss did not improve from 91.55698\n",
            "3/3 [==============================] - 0s 2ms/step - loss: 94.0954\n",
            "Epoch 65/200\n",
            "1/3 [=========>....................] - ETA: 0s - loss: 87.6269\n",
            "Epoch 00065: loss did not improve from 91.55698\n",
            "3/3 [==============================] - 0s 2ms/step - loss: 96.3170\n",
            "Epoch 66/200\n",
            "1/3 [=========>....................] - ETA: 0s - loss: 84.9222\n",
            "Epoch 00066: loss did not improve from 91.55698\n",
            "3/3 [==============================] - 0s 2ms/step - loss: 92.2781\n",
            "Epoch 67/200\n",
            "1/3 [=========>....................] - ETA: 0s - loss: 84.0518\n",
            "Epoch 00067: loss improved from 91.55698 to 79.59882, saving model to /content/drive/My Drive/seach/model1/modelll.hdf5\n",
            "3/3 [==============================] - 0s 13ms/step - loss: 79.5988\n",
            "Epoch 68/200\n",
            "1/3 [=========>....................] - ETA: 0s - loss: 72.2202\n",
            "Epoch 00068: loss did not improve from 79.59882\n",
            "3/3 [==============================] - 0s 2ms/step - loss: 89.8196\n",
            "Epoch 69/200\n",
            "1/3 [=========>....................] - ETA: 0s - loss: 99.2468\n",
            "Epoch 00069: loss did not improve from 79.59882\n",
            "3/3 [==============================] - 0s 2ms/step - loss: 79.6432\n",
            "Epoch 70/200\n",
            "1/3 [=========>....................] - ETA: 0s - loss: 74.9165\n",
            "Epoch 00070: loss did not improve from 79.59882\n",
            "3/3 [==============================] - 0s 2ms/step - loss: 84.1056\n",
            "Epoch 71/200\n",
            "1/3 [=========>....................] - ETA: 0s - loss: 78.3723\n",
            "Epoch 00071: loss did not improve from 79.59882\n",
            "3/3 [==============================] - 0s 2ms/step - loss: 86.5895\n",
            "Epoch 72/200\n",
            "1/3 [=========>....................] - ETA: 0s - loss: 88.1634\n",
            "Epoch 00072: loss did not improve from 79.59882\n",
            "3/3 [==============================] - 0s 2ms/step - loss: 80.3475\n",
            "Epoch 73/200\n",
            "1/3 [=========>....................] - ETA: 0s - loss: 86.4797\n",
            "Epoch 00073: loss improved from 79.59882 to 73.61331, saving model to /content/drive/My Drive/seach/model1/modelll.hdf5\n",
            "3/3 [==============================] - 0s 13ms/step - loss: 73.6133\n",
            "Epoch 74/200\n",
            "1/3 [=========>....................] - ETA: 0s - loss: 92.8171\n",
            "Epoch 00074: loss improved from 73.61331 to 71.86990, saving model to /content/drive/My Drive/seach/model1/modelll.hdf5\n",
            "3/3 [==============================] - 0s 13ms/step - loss: 71.8699\n",
            "Epoch 75/200\n",
            "1/3 [=========>....................] - ETA: 0s - loss: 61.6708\n",
            "Epoch 00075: loss did not improve from 71.86990\n",
            "3/3 [==============================] - 0s 2ms/step - loss: 81.1408\n",
            "Epoch 76/200\n",
            "1/3 [=========>....................] - ETA: 0s - loss: 67.3740\n",
            "Epoch 00076: loss did not improve from 71.86990\n",
            "3/3 [==============================] - 0s 2ms/step - loss: 78.9341\n",
            "Epoch 77/200\n",
            "1/3 [=========>....................] - ETA: 0s - loss: 68.0107\n",
            "Epoch 00077: loss did not improve from 71.86990\n",
            "3/3 [==============================] - 0s 3ms/step - loss: 79.9456\n",
            "Epoch 78/200\n",
            "1/3 [=========>....................] - ETA: 0s - loss: 86.6684\n",
            "Epoch 00078: loss improved from 71.86990 to 71.53042, saving model to /content/drive/My Drive/seach/model1/modelll.hdf5\n",
            "3/3 [==============================] - 0s 13ms/step - loss: 71.5304\n",
            "Epoch 79/200\n",
            "1/3 [=========>....................] - ETA: 0s - loss: 84.1711\n",
            "Epoch 00079: loss did not improve from 71.53042\n",
            "3/3 [==============================] - 0s 2ms/step - loss: 74.8714\n",
            "Epoch 80/200\n",
            "1/3 [=========>....................] - ETA: 0s - loss: 66.7976\n",
            "Epoch 00080: loss did not improve from 71.53042\n",
            "3/3 [==============================] - 0s 3ms/step - loss: 80.7129\n",
            "Epoch 81/200\n",
            "1/3 [=========>....................] - ETA: 0s - loss: 75.6540\n",
            "Epoch 00081: loss improved from 71.53042 to 70.17944, saving model to /content/drive/My Drive/seach/model1/modelll.hdf5\n",
            "3/3 [==============================] - 0s 15ms/step - loss: 70.1794\n",
            "Epoch 82/200\n",
            "1/3 [=========>....................] - ETA: 0s - loss: 77.7641\n",
            "Epoch 00082: loss improved from 70.17944 to 68.93902, saving model to /content/drive/My Drive/seach/model1/modelll.hdf5\n",
            "3/3 [==============================] - 0s 12ms/step - loss: 68.9390\n",
            "Epoch 83/200\n",
            "1/3 [=========>....................] - ETA: 0s - loss: 70.9051\n",
            "Epoch 00083: loss did not improve from 68.93902\n",
            "3/3 [==============================] - 0s 3ms/step - loss: 74.0905\n",
            "Epoch 84/200\n",
            "1/3 [=========>....................] - ETA: 0s - loss: 74.8190\n",
            "Epoch 00084: loss did not improve from 68.93902\n",
            "3/3 [==============================] - 0s 3ms/step - loss: 74.2893\n",
            "Epoch 85/200\n",
            "1/3 [=========>....................] - ETA: 0s - loss: 84.7509\n",
            "Epoch 00085: loss improved from 68.93902 to 68.79606, saving model to /content/drive/My Drive/seach/model1/modelll.hdf5\n",
            "3/3 [==============================] - 0s 14ms/step - loss: 68.7961\n",
            "Epoch 86/200\n",
            "1/3 [=========>....................] - ETA: 0s - loss: 74.6444\n",
            "Epoch 00086: loss did not improve from 68.79606\n",
            "3/3 [==============================] - 0s 3ms/step - loss: 69.9383\n",
            "Epoch 87/200\n",
            "1/3 [=========>....................] - ETA: 0s - loss: 71.3925\n",
            "Epoch 00087: loss did not improve from 68.79606\n",
            "3/3 [==============================] - 0s 2ms/step - loss: 72.3947\n",
            "Epoch 88/200\n",
            "1/3 [=========>....................] - ETA: 0s - loss: 60.2058\n",
            "Epoch 00088: loss did not improve from 68.79606\n",
            "3/3 [==============================] - 0s 2ms/step - loss: 77.9326\n",
            "Epoch 89/200\n",
            "1/3 [=========>....................] - ETA: 0s - loss: 92.3731\n",
            "Epoch 00089: loss improved from 68.79606 to 67.73553, saving model to /content/drive/My Drive/seach/model1/modelll.hdf5\n",
            "3/3 [==============================] - 0s 14ms/step - loss: 67.7355\n",
            "Epoch 90/200\n",
            "1/3 [=========>....................] - ETA: 0s - loss: 69.6188\n",
            "Epoch 00090: loss did not improve from 67.73553\n",
            "3/3 [==============================] - 0s 2ms/step - loss: 70.6286\n",
            "Epoch 91/200\n",
            "1/3 [=========>....................] - ETA: 0s - loss: 87.6947\n",
            "Epoch 00091: loss improved from 67.73553 to 67.04006, saving model to /content/drive/My Drive/seach/model1/modelll.hdf5\n",
            "3/3 [==============================] - 0s 13ms/step - loss: 67.0401\n",
            "Epoch 92/200\n",
            "1/3 [=========>....................] - ETA: 0s - loss: 67.1998\n",
            "Epoch 00092: loss did not improve from 67.04006\n",
            "3/3 [==============================] - 0s 2ms/step - loss: 72.6006\n",
            "Epoch 93/200\n",
            "1/3 [=========>....................] - ETA: 0s - loss: 80.6602\n",
            "Epoch 00093: loss did not improve from 67.04006\n",
            "3/3 [==============================] - 0s 2ms/step - loss: 73.1292\n",
            "Epoch 94/200\n",
            "1/3 [=========>....................] - ETA: 0s - loss: 63.6539\n",
            "Epoch 00094: loss did not improve from 67.04006\n",
            "3/3 [==============================] - 0s 2ms/step - loss: 68.8573\n",
            "Epoch 95/200\n",
            "1/3 [=========>....................] - ETA: 0s - loss: 76.8759\n",
            "Epoch 00095: loss did not improve from 67.04006\n",
            "3/3 [==============================] - 0s 2ms/step - loss: 74.7664\n",
            "Epoch 96/200\n",
            "1/3 [=========>....................] - ETA: 0s - loss: 81.1407\n",
            "Epoch 00096: loss did not improve from 67.04006\n",
            "3/3 [==============================] - 0s 2ms/step - loss: 74.6430\n",
            "Epoch 97/200\n",
            "1/3 [=========>....................] - ETA: 0s - loss: 56.2607\n",
            "Epoch 00097: loss did not improve from 67.04006\n",
            "3/3 [==============================] - 0s 2ms/step - loss: 73.3976\n",
            "Epoch 98/200\n",
            "1/3 [=========>....................] - ETA: 0s - loss: 77.5238\n",
            "Epoch 00098: loss did not improve from 67.04006\n",
            "3/3 [==============================] - 0s 2ms/step - loss: 74.6884\n",
            "Epoch 99/200\n",
            "1/3 [=========>....................] - ETA: 0s - loss: 73.6268\n",
            "Epoch 00099: loss did not improve from 67.04006\n",
            "3/3 [==============================] - 0s 2ms/step - loss: 74.9586\n",
            "Epoch 100/200\n",
            "1/3 [=========>....................] - ETA: 0s - loss: 68.5091\n",
            "Epoch 00100: loss did not improve from 67.04006\n",
            "3/3 [==============================] - 0s 2ms/step - loss: 71.4689\n",
            "Epoch 101/200\n",
            "1/3 [=========>....................] - ETA: 0s - loss: 72.2785\n",
            "Epoch 00101: loss did not improve from 67.04006\n",
            "3/3 [==============================] - 0s 2ms/step - loss: 70.6825\n",
            "Epoch 102/200\n",
            "1/3 [=========>....................] - ETA: 0s - loss: 48.6991\n",
            "Epoch 00102: loss did not improve from 67.04006\n",
            "3/3 [==============================] - 0s 3ms/step - loss: 72.8458\n",
            "Epoch 103/200\n",
            "1/3 [=========>....................] - ETA: 0s - loss: 76.5625\n",
            "Epoch 00103: loss did not improve from 67.04006\n",
            "3/3 [==============================] - 0s 2ms/step - loss: 71.1194\n",
            "Epoch 104/200\n",
            "1/3 [=========>....................] - ETA: 0s - loss: 55.7551\n",
            "Epoch 00104: loss did not improve from 67.04006\n",
            "3/3 [==============================] - 0s 3ms/step - loss: 73.5001\n",
            "Epoch 105/200\n",
            "1/3 [=========>....................] - ETA: 0s - loss: 72.3522\n",
            "Epoch 00105: loss did not improve from 67.04006\n",
            "3/3 [==============================] - 0s 3ms/step - loss: 70.4398\n",
            "Epoch 106/200\n",
            "1/3 [=========>....................] - ETA: 0s - loss: 78.6207\n",
            "Epoch 00106: loss did not improve from 67.04006\n",
            "3/3 [==============================] - 0s 2ms/step - loss: 68.7807\n",
            "Epoch 107/200\n",
            "1/3 [=========>....................] - ETA: 0s - loss: 64.2334\n",
            "Epoch 00107: loss did not improve from 67.04006\n",
            "3/3 [==============================] - 0s 2ms/step - loss: 73.7868\n",
            "Epoch 108/200\n",
            "1/3 [=========>....................] - ETA: 0s - loss: 53.7603\n",
            "Epoch 00108: loss did not improve from 67.04006\n",
            "3/3 [==============================] - 0s 2ms/step - loss: 76.7289\n",
            "Epoch 109/200\n",
            "1/3 [=========>....................] - ETA: 0s - loss: 73.9599\n",
            "Epoch 00109: loss did not improve from 67.04006\n",
            "3/3 [==============================] - 0s 2ms/step - loss: 72.0930\n",
            "Epoch 110/200\n",
            "1/3 [=========>....................] - ETA: 0s - loss: 76.0726\n",
            "Epoch 00110: loss did not improve from 67.04006\n",
            "3/3 [==============================] - 0s 2ms/step - loss: 71.9330\n",
            "Epoch 111/200\n",
            "1/3 [=========>....................] - ETA: 0s - loss: 57.3272\n",
            "Epoch 00111: loss did not improve from 67.04006\n",
            "3/3 [==============================] - 0s 3ms/step - loss: 72.8717\n",
            "Epoch 112/200\n",
            "1/3 [=========>....................] - ETA: 0s - loss: 73.9950\n",
            "Epoch 00112: loss did not improve from 67.04006\n",
            "3/3 [==============================] - 0s 2ms/step - loss: 72.5608\n",
            "Epoch 113/200\n",
            "1/3 [=========>....................] - ETA: 0s - loss: 78.4399\n",
            "Epoch 00113: loss did not improve from 67.04006\n",
            "3/3 [==============================] - 0s 3ms/step - loss: 73.3206\n",
            "Epoch 114/200\n",
            "1/3 [=========>....................] - ETA: 0s - loss: 72.6369\n",
            "Epoch 00114: loss did not improve from 67.04006\n",
            "3/3 [==============================] - 0s 3ms/step - loss: 75.4004\n",
            "Epoch 115/200\n",
            "1/3 [=========>....................] - ETA: 0s - loss: 89.8352\n",
            "Epoch 00115: loss did not improve from 67.04006\n",
            "3/3 [==============================] - 0s 2ms/step - loss: 74.5035\n",
            "Epoch 116/200\n",
            "1/3 [=========>....................] - ETA: 0s - loss: 76.4173\n",
            "Epoch 00116: loss did not improve from 67.04006\n",
            "3/3 [==============================] - 0s 2ms/step - loss: 71.3001\n",
            "Epoch 117/200\n",
            "1/3 [=========>....................] - ETA: 0s - loss: 77.6336\n",
            "Epoch 00117: loss did not improve from 67.04006\n",
            "3/3 [==============================] - 0s 2ms/step - loss: 69.8332\n",
            "Epoch 118/200\n",
            "1/3 [=========>....................] - ETA: 0s - loss: 81.3626\n",
            "Epoch 00118: loss did not improve from 67.04006\n",
            "3/3 [==============================] - 0s 3ms/step - loss: 71.9282\n",
            "Epoch 119/200\n",
            "1/3 [=========>....................] - ETA: 0s - loss: 61.9941\n",
            "Epoch 00119: loss did not improve from 67.04006\n",
            "3/3 [==============================] - 0s 2ms/step - loss: 74.2856\n",
            "Epoch 120/200\n",
            "1/3 [=========>....................] - ETA: 0s - loss: 59.4839\n",
            "Epoch 00120: loss did not improve from 67.04006\n",
            "3/3 [==============================] - 0s 3ms/step - loss: 74.2542\n",
            "Epoch 121/200\n",
            "1/3 [=========>....................] - ETA: 0s - loss: 76.9297\n",
            "Epoch 00121: loss did not improve from 67.04006\n",
            "3/3 [==============================] - 0s 2ms/step - loss: 71.6818\n",
            "Epoch 122/200\n",
            "1/3 [=========>....................] - ETA: 0s - loss: 71.3545\n",
            "Epoch 00122: loss did not improve from 67.04006\n",
            "3/3 [==============================] - 0s 2ms/step - loss: 71.1723\n",
            "Epoch 123/200\n",
            "1/3 [=========>....................] - ETA: 0s - loss: 68.6243\n",
            "Epoch 00123: loss did not improve from 67.04006\n",
            "3/3 [==============================] - 0s 3ms/step - loss: 73.6283\n",
            "Epoch 124/200\n",
            "1/3 [=========>....................] - ETA: 0s - loss: 68.2725\n",
            "Epoch 00124: loss did not improve from 67.04006\n",
            "3/3 [==============================] - 0s 3ms/step - loss: 67.8400\n",
            "Epoch 125/200\n",
            "1/3 [=========>....................] - ETA: 0s - loss: 84.1884\n",
            "Epoch 00125: loss did not improve from 67.04006\n",
            "3/3 [==============================] - 0s 2ms/step - loss: 70.3803\n",
            "Epoch 126/200\n",
            "1/3 [=========>....................] - ETA: 0s - loss: 67.8761\n",
            "Epoch 00126: loss did not improve from 67.04006\n",
            "3/3 [==============================] - 0s 2ms/step - loss: 75.4951\n",
            "Epoch 127/200\n",
            "1/3 [=========>....................] - ETA: 0s - loss: 71.1408\n",
            "Epoch 00127: loss did not improve from 67.04006\n",
            "3/3 [==============================] - 0s 2ms/step - loss: 71.6668\n",
            "Epoch 128/200\n",
            "1/3 [=========>....................] - ETA: 0s - loss: 72.4742\n",
            "Epoch 00128: loss did not improve from 67.04006\n",
            "3/3 [==============================] - 0s 3ms/step - loss: 67.5863\n",
            "Epoch 129/200\n",
            "1/3 [=========>....................] - ETA: 0s - loss: 60.7209\n",
            "Epoch 00129: loss did not improve from 67.04006\n",
            "3/3 [==============================] - 0s 2ms/step - loss: 70.7196\n",
            "Epoch 130/200\n",
            "1/3 [=========>....................] - ETA: 0s - loss: 69.4632\n",
            "Epoch 00130: loss did not improve from 67.04006\n",
            "3/3 [==============================] - 0s 3ms/step - loss: 78.0028\n",
            "Epoch 131/200\n",
            "1/3 [=========>....................] - ETA: 0s - loss: 85.1518\n",
            "Epoch 00131: loss did not improve from 67.04006\n",
            "3/3 [==============================] - 0s 3ms/step - loss: 70.0670\n",
            "Epoch 132/200\n",
            "1/3 [=========>....................] - ETA: 0s - loss: 76.1681\n",
            "Epoch 00132: loss did not improve from 67.04006\n",
            "3/3 [==============================] - 0s 2ms/step - loss: 72.2266\n",
            "Epoch 133/200\n",
            "1/3 [=========>....................] - ETA: 0s - loss: 81.6413\n",
            "Epoch 00133: loss did not improve from 67.04006\n",
            "3/3 [==============================] - 0s 2ms/step - loss: 69.0934\n",
            "Epoch 134/200\n",
            "1/3 [=========>....................] - ETA: 0s - loss: 100.8468\n",
            "Epoch 00134: loss improved from 67.04006 to 66.91654, saving model to /content/drive/My Drive/seach/model1/modelll.hdf5\n",
            "3/3 [==============================] - 0s 14ms/step - loss: 66.9165\n",
            "Epoch 135/200\n",
            "1/3 [=========>....................] - ETA: 0s - loss: 68.0512\n",
            "Epoch 00135: loss did not improve from 66.91654\n",
            "3/3 [==============================] - 0s 3ms/step - loss: 74.0459\n",
            "Epoch 136/200\n",
            "1/3 [=========>....................] - ETA: 0s - loss: 76.0182\n",
            "Epoch 00136: loss did not improve from 66.91654\n",
            "3/3 [==============================] - 0s 2ms/step - loss: 69.8243\n",
            "Epoch 137/200\n",
            "1/3 [=========>....................] - ETA: 0s - loss: 69.2560\n",
            "Epoch 00137: loss did not improve from 66.91654\n",
            "3/3 [==============================] - 0s 3ms/step - loss: 73.7121\n",
            "Epoch 138/200\n",
            "1/3 [=========>....................] - ETA: 0s - loss: 86.6247\n",
            "Epoch 00138: loss did not improve from 66.91654\n",
            "3/3 [==============================] - 0s 3ms/step - loss: 69.1477\n",
            "Epoch 139/200\n",
            "1/3 [=========>....................] - ETA: 0s - loss: 72.2857\n",
            "Epoch 00139: loss did not improve from 66.91654\n",
            "3/3 [==============================] - 0s 3ms/step - loss: 74.3744\n",
            "Epoch 140/200\n",
            "1/3 [=========>....................] - ETA: 0s - loss: 63.4172\n",
            "Epoch 00140: loss did not improve from 66.91654\n",
            "3/3 [==============================] - 0s 2ms/step - loss: 73.9739\n",
            "Epoch 141/200\n",
            "1/3 [=========>....................] - ETA: 0s - loss: 72.5362\n",
            "Epoch 00141: loss did not improve from 66.91654\n",
            "3/3 [==============================] - 0s 2ms/step - loss: 72.7974\n",
            "Epoch 142/200\n",
            "1/3 [=========>....................] - ETA: 0s - loss: 83.5967\n",
            "Epoch 00142: loss did not improve from 66.91654\n",
            "3/3 [==============================] - 0s 3ms/step - loss: 70.6357\n",
            "Epoch 143/200\n",
            "1/3 [=========>....................] - ETA: 0s - loss: 79.7458\n",
            "Epoch 00143: loss did not improve from 66.91654\n",
            "3/3 [==============================] - 0s 3ms/step - loss: 72.4720\n",
            "Epoch 144/200\n",
            "1/3 [=========>....................] - ETA: 0s - loss: 74.7795\n",
            "Epoch 00144: loss did not improve from 66.91654\n",
            "3/3 [==============================] - 0s 2ms/step - loss: 75.5452\n",
            "Epoch 145/200\n",
            "1/3 [=========>....................] - ETA: 0s - loss: 72.3299\n",
            "Epoch 00145: loss did not improve from 66.91654\n",
            "3/3 [==============================] - 0s 2ms/step - loss: 70.3641\n",
            "Epoch 146/200\n",
            "1/3 [=========>....................] - ETA: 0s - loss: 80.3976\n",
            "Epoch 00146: loss did not improve from 66.91654\n",
            "3/3 [==============================] - 0s 2ms/step - loss: 76.6796\n",
            "Epoch 147/200\n",
            "1/3 [=========>....................] - ETA: 0s - loss: 48.8473\n",
            "Epoch 00147: loss did not improve from 66.91654\n",
            "3/3 [==============================] - 0s 2ms/step - loss: 71.3695\n",
            "Epoch 148/200\n",
            "1/3 [=========>....................] - ETA: 0s - loss: 56.5845\n",
            "Epoch 00148: loss did not improve from 66.91654\n",
            "3/3 [==============================] - 0s 3ms/step - loss: 70.7875\n",
            "Epoch 149/200\n",
            "1/3 [=========>....................] - ETA: 0s - loss: 67.5483\n",
            "Epoch 00149: loss did not improve from 66.91654\n",
            "3/3 [==============================] - 0s 3ms/step - loss: 75.0399\n",
            "Epoch 150/200\n",
            "1/3 [=========>....................] - ETA: 0s - loss: 80.1879\n",
            "Epoch 00150: loss did not improve from 66.91654\n",
            "3/3 [==============================] - 0s 2ms/step - loss: 71.8728\n",
            "Epoch 151/200\n",
            "1/3 [=========>....................] - ETA: 0s - loss: 87.9716\n",
            "Epoch 00151: loss did not improve from 66.91654\n",
            "3/3 [==============================] - 0s 3ms/step - loss: 68.0857\n",
            "Epoch 152/200\n",
            "1/3 [=========>....................] - ETA: 0s - loss: 78.6748\n",
            "Epoch 00152: loss did not improve from 66.91654\n",
            "3/3 [==============================] - 0s 3ms/step - loss: 71.6311\n",
            "Epoch 153/200\n",
            "1/3 [=========>....................] - ETA: 0s - loss: 81.6017\n",
            "Epoch 00153: loss improved from 66.91654 to 66.79543, saving model to /content/drive/My Drive/seach/model1/modelll.hdf5\n",
            "3/3 [==============================] - 0s 14ms/step - loss: 66.7954\n",
            "Epoch 154/200\n",
            "1/3 [=========>....................] - ETA: 0s - loss: 70.9234\n",
            "Epoch 00154: loss did not improve from 66.79543\n",
            "3/3 [==============================] - 0s 2ms/step - loss: 70.2528\n",
            "Epoch 155/200\n",
            "1/3 [=========>....................] - ETA: 0s - loss: 76.0934\n",
            "Epoch 00155: loss did not improve from 66.79543\n",
            "3/3 [==============================] - 0s 3ms/step - loss: 72.7614\n",
            "Epoch 156/200\n",
            "1/3 [=========>....................] - ETA: 0s - loss: 55.1040\n",
            "Epoch 00156: loss did not improve from 66.79543\n",
            "3/3 [==============================] - 0s 3ms/step - loss: 73.9503\n",
            "Epoch 157/200\n",
            "1/3 [=========>....................] - ETA: 0s - loss: 66.4755\n",
            "Epoch 00157: loss did not improve from 66.79543\n",
            "3/3 [==============================] - 0s 2ms/step - loss: 72.0167\n",
            "Epoch 158/200\n",
            "1/3 [=========>....................] - ETA: 0s - loss: 59.4796\n",
            "Epoch 00158: loss did not improve from 66.79543\n",
            "3/3 [==============================] - 0s 3ms/step - loss: 77.0358\n",
            "Epoch 159/200\n",
            "1/3 [=========>....................] - ETA: 0s - loss: 80.2471\n",
            "Epoch 00159: loss improved from 66.79543 to 66.70721, saving model to /content/drive/My Drive/seach/model1/modelll.hdf5\n",
            "3/3 [==============================] - 0s 14ms/step - loss: 66.7072\n",
            "Epoch 160/200\n",
            "1/3 [=========>....................] - ETA: 0s - loss: 61.6972\n",
            "Epoch 00160: loss improved from 66.70721 to 66.64538, saving model to /content/drive/My Drive/seach/model1/modelll.hdf5\n",
            "3/3 [==============================] - 0s 14ms/step - loss: 66.6454\n",
            "Epoch 161/200\n",
            "1/3 [=========>....................] - ETA: 0s - loss: 66.5258\n",
            "Epoch 00161: loss did not improve from 66.64538\n",
            "3/3 [==============================] - 0s 2ms/step - loss: 73.3506\n",
            "Epoch 162/200\n",
            "1/3 [=========>....................] - ETA: 0s - loss: 70.0356\n",
            "Epoch 00162: loss did not improve from 66.64538\n",
            "3/3 [==============================] - 0s 2ms/step - loss: 76.5619\n",
            "Epoch 163/200\n",
            "1/3 [=========>....................] - ETA: 0s - loss: 78.0768\n",
            "Epoch 00163: loss did not improve from 66.64538\n",
            "3/3 [==============================] - 0s 2ms/step - loss: 67.5216\n",
            "Epoch 164/200\n",
            "1/3 [=========>....................] - ETA: 0s - loss: 68.3496\n",
            "Epoch 00164: loss did not improve from 66.64538\n",
            "3/3 [==============================] - 0s 2ms/step - loss: 74.3604\n",
            "Epoch 165/200\n",
            "1/3 [=========>....................] - ETA: 0s - loss: 71.1227\n",
            "Epoch 00165: loss did not improve from 66.64538\n",
            "3/3 [==============================] - 0s 2ms/step - loss: 71.4491\n",
            "Epoch 166/200\n",
            "1/3 [=========>....................] - ETA: 0s - loss: 68.3793\n",
            "Epoch 00166: loss did not improve from 66.64538\n",
            "3/3 [==============================] - 0s 3ms/step - loss: 72.1419\n",
            "Epoch 167/200\n",
            "1/3 [=========>....................] - ETA: 0s - loss: 81.3186\n",
            "Epoch 00167: loss improved from 66.64538 to 66.08243, saving model to /content/drive/My Drive/seach/model1/modelll.hdf5\n",
            "3/3 [==============================] - 0s 15ms/step - loss: 66.0824\n",
            "Epoch 168/200\n",
            "1/3 [=========>....................] - ETA: 0s - loss: 87.1476\n",
            "Epoch 00168: loss did not improve from 66.08243\n",
            "3/3 [==============================] - 0s 2ms/step - loss: 70.2229\n",
            "Epoch 169/200\n",
            "1/3 [=========>....................] - ETA: 0s - loss: 66.7810\n",
            "Epoch 00169: loss did not improve from 66.08243\n",
            "3/3 [==============================] - 0s 2ms/step - loss: 74.3784\n",
            "Epoch 170/200\n",
            "1/3 [=========>....................] - ETA: 0s - loss: 78.3836\n",
            "Epoch 00170: loss did not improve from 66.08243\n",
            "3/3 [==============================] - 0s 2ms/step - loss: 68.9500\n",
            "Epoch 171/200\n",
            "1/3 [=========>....................] - ETA: 0s - loss: 82.6038\n",
            "Epoch 00171: loss did not improve from 66.08243\n",
            "3/3 [==============================] - 0s 2ms/step - loss: 70.1807\n",
            "Epoch 172/200\n",
            "1/3 [=========>....................] - ETA: 0s - loss: 79.2950\n",
            "Epoch 00172: loss did not improve from 66.08243\n",
            "3/3 [==============================] - 0s 2ms/step - loss: 73.4451\n",
            "Epoch 173/200\n",
            "1/3 [=========>....................] - ETA: 0s - loss: 71.9511\n",
            "Epoch 00173: loss did not improve from 66.08243\n",
            "3/3 [==============================] - 0s 2ms/step - loss: 71.7990\n",
            "Epoch 174/200\n",
            "1/3 [=========>....................] - ETA: 0s - loss: 77.0860\n",
            "Epoch 00174: loss did not improve from 66.08243\n",
            "3/3 [==============================] - 0s 2ms/step - loss: 67.7039\n",
            "Epoch 175/200\n",
            "1/3 [=========>....................] - ETA: 0s - loss: 61.7484\n",
            "Epoch 00175: loss did not improve from 66.08243\n",
            "3/3 [==============================] - 0s 2ms/step - loss: 73.4999\n",
            "Epoch 176/200\n",
            "1/3 [=========>....................] - ETA: 0s - loss: 94.8698\n",
            "Epoch 00176: loss did not improve from 66.08243\n",
            "3/3 [==============================] - 0s 2ms/step - loss: 69.9999\n",
            "Epoch 177/200\n",
            "1/3 [=========>....................] - ETA: 0s - loss: 81.8126\n",
            "Epoch 00177: loss did not improve from 66.08243\n",
            "3/3 [==============================] - 0s 2ms/step - loss: 68.9973\n",
            "Epoch 178/200\n",
            "1/3 [=========>....................] - ETA: 0s - loss: 76.4167\n",
            "Epoch 00178: loss did not improve from 66.08243\n",
            "3/3 [==============================] - 0s 3ms/step - loss: 70.9212\n",
            "Epoch 179/200\n",
            "1/3 [=========>....................] - ETA: 0s - loss: 64.7410\n",
            "Epoch 00179: loss did not improve from 66.08243\n",
            "3/3 [==============================] - 0s 2ms/step - loss: 75.5393\n",
            "Epoch 180/200\n",
            "1/3 [=========>....................] - ETA: 0s - loss: 76.1424\n",
            "Epoch 00180: loss did not improve from 66.08243\n",
            "3/3 [==============================] - 0s 3ms/step - loss: 71.6036\n",
            "Epoch 181/200\n",
            "1/3 [=========>....................] - ETA: 0s - loss: 55.3234\n",
            "Epoch 00181: loss did not improve from 66.08243\n",
            "3/3 [==============================] - 0s 3ms/step - loss: 71.2230\n",
            "Epoch 182/200\n",
            "1/3 [=========>....................] - ETA: 0s - loss: 70.2695\n",
            "Epoch 00182: loss did not improve from 66.08243\n",
            "3/3 [==============================] - 0s 2ms/step - loss: 72.9795\n",
            "Epoch 183/200\n",
            "1/3 [=========>....................] - ETA: 0s - loss: 76.7340\n",
            "Epoch 00183: loss did not improve from 66.08243\n",
            "3/3 [==============================] - 0s 2ms/step - loss: 72.2709\n",
            "Epoch 184/200\n",
            "1/3 [=========>....................] - ETA: 0s - loss: 65.5586\n",
            "Epoch 00184: loss did not improve from 66.08243\n",
            "3/3 [==============================] - 0s 3ms/step - loss: 69.8832\n",
            "Epoch 185/200\n",
            "1/3 [=========>....................] - ETA: 0s - loss: 69.4816\n",
            "Epoch 00185: loss did not improve from 66.08243\n",
            "3/3 [==============================] - 0s 2ms/step - loss: 76.3507\n",
            "Epoch 186/200\n",
            "1/3 [=========>....................] - ETA: 0s - loss: 75.7716\n",
            "Epoch 00186: loss did not improve from 66.08243\n",
            "3/3 [==============================] - 0s 2ms/step - loss: 70.5021\n",
            "Epoch 187/200\n",
            "1/3 [=========>....................] - ETA: 0s - loss: 69.0368\n",
            "Epoch 00187: loss did not improve from 66.08243\n",
            "3/3 [==============================] - 0s 3ms/step - loss: 75.2941\n",
            "Epoch 188/200\n",
            "1/3 [=========>....................] - ETA: 0s - loss: 66.2627\n",
            "Epoch 00188: loss did not improve from 66.08243\n",
            "3/3 [==============================] - 0s 3ms/step - loss: 73.0676\n",
            "Epoch 189/200\n",
            "1/3 [=========>....................] - ETA: 0s - loss: 53.2999\n",
            "Epoch 00189: loss did not improve from 66.08243\n",
            "3/3 [==============================] - 0s 2ms/step - loss: 72.5516\n",
            "Epoch 190/200\n",
            "1/3 [=========>....................] - ETA: 0s - loss: 65.3489\n",
            "Epoch 00190: loss did not improve from 66.08243\n",
            "3/3 [==============================] - 0s 2ms/step - loss: 72.7087\n",
            "Epoch 191/200\n",
            "1/3 [=========>....................] - ETA: 0s - loss: 64.9945\n",
            "Epoch 00191: loss did not improve from 66.08243\n",
            "3/3 [==============================] - 0s 2ms/step - loss: 71.5561\n",
            "Epoch 192/200\n",
            "1/3 [=========>....................] - ETA: 0s - loss: 71.2921\n",
            "Epoch 00192: loss did not improve from 66.08243\n",
            "3/3 [==============================] - 0s 2ms/step - loss: 72.8317\n",
            "Epoch 193/200\n",
            "1/3 [=========>....................] - ETA: 0s - loss: 76.7334\n",
            "Epoch 00193: loss did not improve from 66.08243\n",
            "3/3 [==============================] - 0s 2ms/step - loss: 72.7942\n",
            "Epoch 194/200\n",
            "1/3 [=========>....................] - ETA: 0s - loss: 86.7085\n",
            "Epoch 00194: loss did not improve from 66.08243\n",
            "3/3 [==============================] - 0s 2ms/step - loss: 69.1381\n",
            "Epoch 195/200\n",
            "1/3 [=========>....................] - ETA: 0s - loss: 76.4222\n",
            "Epoch 00195: loss did not improve from 66.08243\n",
            "3/3 [==============================] - 0s 2ms/step - loss: 75.8703\n",
            "Epoch 196/200\n",
            "1/3 [=========>....................] - ETA: 0s - loss: 81.1898\n",
            "Epoch 00196: loss did not improve from 66.08243\n",
            "3/3 [==============================] - 0s 2ms/step - loss: 72.9731\n",
            "Epoch 197/200\n",
            "1/3 [=========>....................] - ETA: 0s - loss: 61.8639\n",
            "Epoch 00197: loss did not improve from 66.08243\n",
            "3/3 [==============================] - 0s 3ms/step - loss: 70.5809\n",
            "Epoch 198/200\n",
            "1/3 [=========>....................] - ETA: 0s - loss: 73.2414\n",
            "Epoch 00198: loss did not improve from 66.08243\n",
            "3/3 [==============================] - 0s 2ms/step - loss: 71.7393\n",
            "Epoch 199/200\n",
            "1/3 [=========>....................] - ETA: 0s - loss: 62.1357\n",
            "Epoch 00199: loss did not improve from 66.08243\n",
            "3/3 [==============================] - 0s 2ms/step - loss: 74.4136\n",
            "Epoch 200/200\n",
            "1/3 [=========>....................] - ETA: 0s - loss: 65.3935\n",
            "Epoch 00200: loss did not improve from 66.08243\n",
            "3/3 [==============================] - 0s 2ms/step - loss: 75.7041\n"
          ],
          "name": "stdout"
        },
        {
          "output_type": "execute_result",
          "data": {
            "text/plain": [
              "<tensorflow.python.keras.callbacks.History at 0x7fc172681a90>"
            ]
          },
          "metadata": {
            "tags": []
          },
          "execution_count": 265
        }
      ]
    },
    {
      "cell_type": "code",
      "metadata": {
        "id": "JTfZoAu5ZTOj",
        "colab_type": "code",
        "colab": {}
      },
      "source": [
        "y_pre = model.predict(train_dfs)\n"
      ],
      "execution_count": 0,
      "outputs": []
    },
    {
      "cell_type": "code",
      "metadata": {
        "id": "Ymj_95duVHMr",
        "colab_type": "code",
        "colab": {}
      },
      "source": [
        "p=[el[0] for el in y_pre]"
      ],
      "execution_count": 0,
      "outputs": []
    },
    {
      "cell_type": "code",
      "metadata": {
        "id": "Jk9ifDkSVOH5",
        "colab_type": "code",
        "colab": {}
      },
      "source": [
        "p"
      ],
      "execution_count": 0,
      "outputs": []
    },
    {
      "cell_type": "code",
      "metadata": {
        "id": "_KtBK2qnZZuh",
        "colab_type": "code",
        "colab": {}
      },
      "source": [
        "y_pre.tolist()"
      ],
      "execution_count": 0,
      "outputs": []
    },
    {
      "cell_type": "code",
      "metadata": {
        "id": "ZV8EhHkWZfta",
        "colab_type": "code",
        "colab": {}
      },
      "source": [
        "y_predicted = model.predict(test_dfs)"
      ],
      "execution_count": 0,
      "outputs": []
    },
    {
      "cell_type": "code",
      "metadata": {
        "id": "pCQ4LkrsZg0p",
        "colab_type": "code",
        "colab": {}
      },
      "source": [
        "y_predicted.tolist()"
      ],
      "execution_count": 0,
      "outputs": []
    },
    {
      "cell_type": "code",
      "metadata": {
        "id": "2-GyhTcHVCk1",
        "colab_type": "code",
        "colab": {}
      },
      "source": [
        "y_pre"
      ],
      "execution_count": 0,
      "outputs": []
    },
    {
      "cell_type": "code",
      "metadata": {
        "id": "WxSXr35i4des",
        "colab_type": "code",
        "outputId": "ac3e2359-6283-4c33-9a97-81640c107753",
        "colab": {
          "base_uri": "https://localhost:8080/",
          "height": 34
        }
      },
      "source": [
        "#p=[el[0] for el in y_pre]\n",
        "import numpy as np\n",
        "mse = np.mean((p - ytrain) ** 2)\n",
        "mse"
      ],
      "execution_count": 0,
      "outputs": [
        {
          "output_type": "execute_result",
          "data": {
            "text/plain": [
              "9431.538551933063"
            ]
          },
          "metadata": {
            "tags": []
          },
          "execution_count": 279
        }
      ]
    },
    {
      "cell_type": "code",
      "metadata": {
        "id": "MHMrCPxQ4dcQ",
        "colab_type": "code",
        "colab": {}
      },
      "source": [
        "y_predicted\n",
        "p=[el[0] for el in y_predicted]\n",
        "p"
      ],
      "execution_count": 0,
      "outputs": []
    },
    {
      "cell_type": "code",
      "metadata": {
        "id": "EJRkw5ymVqPR",
        "colab_type": "code",
        "colab": {}
      },
      "source": [
        "test_df"
      ],
      "execution_count": 0,
      "outputs": []
    },
    {
      "cell_type": "code",
      "metadata": {
        "id": "85V-wnEw4dZE",
        "colab_type": "code",
        "colab": {}
      },
      "source": [
        "solution = pd.DataFrame ()\n",
        "solution['id']=test_df['id']\n",
        "solution['feature']=y_predicted\n",
        "solution.to_csv('/content/solution.csv',index=False)"
      ],
      "execution_count": 0,
      "outputs": []
    },
    {
      "cell_type": "markdown",
      "metadata": {
        "id": "qHzfjOB3d6EC",
        "colab_type": "text"
      },
      "source": [
        "# GRNN"
      ]
    },
    {
      "cell_type": "code",
      "metadata": {
        "id": "Xf5gGQcBbMFQ",
        "colab_type": "code",
        "colab": {}
      },
      "source": [
        "\n",
        "IGRNN = GRNN()"
      ],
      "execution_count": 0,
      "outputs": []
    },
    {
      "cell_type": "code",
      "metadata": {
        "id": "6nb4lg1rbMAX",
        "colab_type": "code",
        "outputId": "9d167f0c-b330-4ba9-edad-146332ae81d8",
        "colab": {
          "base_uri": "https://localhost:8080/",
          "height": 85
        }
      },
      "source": [
        "params_IGRNN = {'kernel':[\"RBF\"],\n",
        "                'sigma' : list(np.arange(0.1, 4, 0.01)),\n",
        "                'calibration' : ['None']\n",
        "                 }\n",
        "grid_IGRNN = GridSearchCV(estimator=IGRNN,\n",
        "                          param_grid=params_IGRNN,\n",
        "                          scoring='neg_mean_squared_error',\n",
        "                          cv=5,\n",
        "                          verbose=1\n",
        "                          )\n",
        "grid_IGRNN.fit(train_dfs,ytrain.ravel())\n",
        "best_model = grid_IGRNN.best_estimator_\n",
        "y_pred = best_model.predict(train_dfs)\n",
        "mse_IGRNN = MSE(ytrain, y_pred)\n",
        "\n",
        "mse_IGRNN"
      ],
      "execution_count": 0,
      "outputs": [
        {
          "output_type": "stream",
          "text": [
            "Fitting 5 folds for each of 390 candidates, totalling 1950 fits\n"
          ],
          "name": "stdout"
        },
        {
          "output_type": "stream",
          "text": [
            "[Parallel(n_jobs=1)]: Using backend SequentialBackend with 1 concurrent workers.\n",
            "[Parallel(n_jobs=1)]: Done 1950 out of 1950 | elapsed:    2.2s finished\n"
          ],
          "name": "stderr"
        },
        {
          "output_type": "execute_result",
          "data": {
            "text/plain": [
              "8728.23266106777"
            ]
          },
          "metadata": {
            "tags": []
          },
          "execution_count": 281
        }
      ]
    },
    {
      "cell_type": "code",
      "metadata": {
        "id": "yRoOVby6bL-S",
        "colab_type": "code",
        "outputId": "378c8348-e5f2-4f59-83d1-178d1e38248f",
        "colab": {
          "base_uri": "https://localhost:8080/",
          "height": 34
        }
      },
      "source": [
        "AGRNN = GRNN(calibration=\"gradient_search\")\n",
        "AGRNN.fit(train_dfs,ytrain.ravel())\n",
        "sigma=AGRNN.sigma \n",
        "y_pred = AGRNN.predict(train_dfs)\n",
        "mse_AGRNN = MSE(ytrain, y_pred)\n",
        "mse_AGRNN"
      ],
      "execution_count": 0,
      "outputs": [
        {
          "output_type": "execute_result",
          "data": {
            "text/plain": [
              "8726.514737275726"
            ]
          },
          "metadata": {
            "tags": []
          },
          "execution_count": 282
        }
      ]
    },
    {
      "cell_type": "markdown",
      "metadata": {
        "id": "ofRCDCJeejxs",
        "colab_type": "text"
      },
      "source": [
        "# LGBMRegressor"
      ]
    },
    {
      "cell_type": "code",
      "metadata": {
        "id": "HTFbUIunbL2B",
        "colab_type": "code",
        "colab": {}
      },
      "source": [
        "from lightgbm import LGBMRegressor\n",
        "params = {'n_estimators':[20,50,100,500,1000,1500],\n",
        "         'learning_rate':[0.0005,0.005,.01,.1]}\n",
        "\n",
        "model_lgbm2 = LGBMRegressor(random_state=0)\n",
        "tune_lgbm =GridSearchCV(estimator=model_lgbm2, cv = 10,param_grid=params,scoring='neg_root_mean_squared_error')"
      ],
      "execution_count": 0,
      "outputs": []
    },
    {
      "cell_type": "code",
      "metadata": {
        "id": "hRQXtOD_vItX",
        "colab_type": "code",
        "colab": {}
      },
      "source": [
        "tune_lgbm = tune_lgbm.fit(train_dfs,ytrain)"
      ],
      "execution_count": 0,
      "outputs": []
    },
    {
      "cell_type": "code",
      "metadata": {
        "id": "Iv4qmEV_vIqh",
        "colab_type": "code",
        "outputId": "be906aae-a9f4-446b-90ec-7db241134e2a",
        "colab": {
          "base_uri": "https://localhost:8080/",
          "height": 34
        }
      },
      "source": [
        "print(-tune_lgbm.best_score_)"
      ],
      "execution_count": 0,
      "outputs": [
        {
          "output_type": "stream",
          "text": [
            "90.60652929791357\n"
          ],
          "name": "stdout"
        }
      ]
    },
    {
      "cell_type": "code",
      "metadata": {
        "id": "NIrG3tlMvInq",
        "colab_type": "code",
        "outputId": "935723eb-326e-42e1-b522-642c36478dc5",
        "colab": {
          "base_uri": "https://localhost:8080/",
          "height": 34
        }
      },
      "source": [
        "print(tune_lgbm.best_params_)"
      ],
      "execution_count": 0,
      "outputs": [
        {
          "output_type": "stream",
          "text": [
            "{'learning_rate': 0.01, 'n_estimators': 50}\n"
          ],
          "name": "stdout"
        }
      ]
    },
    {
      "cell_type": "code",
      "metadata": {
        "id": "QPA3QGW0vIlL",
        "colab_type": "code",
        "colab": {}
      },
      "source": [
        "my_model = tune_lgbm.best_estimator_"
      ],
      "execution_count": 0,
      "outputs": []
    },
    {
      "cell_type": "code",
      "metadata": {
        "id": "qJSXYXgYvIiJ",
        "colab_type": "code",
        "outputId": "92aae60e-c595-4386-c0cc-7255b0f8aeba",
        "colab": {
          "base_uri": "https://localhost:8080/",
          "height": 34
        }
      },
      "source": [
        "my_model.fit(train_dfs,ytrain)\n",
        "y_pre = my_model.predict(train_dfs)\n",
        "y_predicted = my_model.predict(test_dfs)\n",
        "import numpy as np\n",
        "mse = np.mean((y_pre - ytrain) ** 2)\n",
        "mse"
      ],
      "execution_count": 0,
      "outputs": [
        {
          "output_type": "execute_result",
          "data": {
            "text/plain": [
              "8390.233461186663"
            ]
          },
          "metadata": {
            "tags": []
          },
          "execution_count": 302
        }
      ]
    },
    {
      "cell_type": "code",
      "metadata": {
        "id": "3xLVNY7bvIfA",
        "colab_type": "code",
        "colab": {}
      },
      "source": [
        "solution = pd.DataFrame ()\n",
        "solution['id']=test_df['id']\n",
        "solution['feature']=y_predicted\n",
        "solution.to_csv('/content/solution.csv',index=False)"
      ],
      "execution_count": 0,
      "outputs": []
    },
    {
      "cell_type": "code",
      "metadata": {
        "id": "6nXNDPMdvIdt",
        "colab_type": "code",
        "colab": {}
      },
      "source": [
        ""
      ],
      "execution_count": 0,
      "outputs": []
    },
    {
      "cell_type": "code",
      "metadata": {
        "id": "JQtoy0JH0NfF",
        "colab_type": "code",
        "colab": {}
      },
      "source": [
        ""
      ],
      "execution_count": 0,
      "outputs": []
    },
    {
      "cell_type": "code",
      "metadata": {
        "id": "9FQvljoF0NbR",
        "colab_type": "code",
        "colab": {}
      },
      "source": [
        ""
      ],
      "execution_count": 0,
      "outputs": []
    },
    {
      "cell_type": "markdown",
      "metadata": {
        "id": "Y7TvIQUo4nPP",
        "colab_type": "text"
      },
      "source": [
        "# Linear Regression"
      ]
    },
    {
      "cell_type": "code",
      "metadata": {
        "id": "12R9-5Miz_FU",
        "colab_type": "code",
        "outputId": "bd28c89f-3ccd-4824-e3e5-443efcf2cddb",
        "colab": {
          "base_uri": "https://localhost:8080/",
          "height": 34
        }
      },
      "source": [
        "train_dfs,ytrain\n",
        "from sklearn.linear_model import LinearRegression\n",
        "lr_model = LinearRegression()\n",
        "lr_model.fit(train_dfs,ytrain)\n",
        "\n",
        "lr_y_fit = lr_model.predict(train_dfs)\n",
        "lr_y_pred = lr_model.predict(test_dfs)\n",
        "\n",
        "\n",
        "lr_residuals = lr_y_fit - ytrain\n",
        "lr_rmse = np.sqrt(np.sum(np.power(lr_residuals,2)) / len(lr_residuals))\n",
        "print('RMSE = %.2f' % lr_rmse)"
      ],
      "execution_count": 0,
      "outputs": [
        {
          "output_type": "stream",
          "text": [
            "RMSE = 92.66\n"
          ],
          "name": "stdout"
        }
      ]
    },
    {
      "cell_type": "code",
      "metadata": {
        "id": "F-pcGa12z_EF",
        "colab_type": "code",
        "colab": {}
      },
      "source": [
        "solution = pd.DataFrame ()\n",
        "solution['id']=test_df['id']\n",
        "solution['feature']=lr_y_pred\n",
        "solution.to_csv('/content/solutionlr.csv',index=False)"
      ],
      "execution_count": 0,
      "outputs": []
    },
    {
      "cell_type": "code",
      "metadata": {
        "id": "HLvIxHDNz-_T",
        "colab_type": "code",
        "colab": {}
      },
      "source": [
        ""
      ],
      "execution_count": 0,
      "outputs": []
    },
    {
      "cell_type": "markdown",
      "metadata": {
        "id": "-CSezZRk4ql4",
        "colab_type": "text"
      },
      "source": [
        "# SARIMAX\n"
      ]
    },
    {
      "cell_type": "markdown",
      "metadata": {
        "id": "_UvY3Q7nxJlk",
        "colab_type": "text"
      },
      "source": [
        "I tried to use it but I failed to get the results "
      ]
    },
    {
      "cell_type": "code",
      "metadata": {
        "id": "RIElF2SEPr3F",
        "colab_type": "code",
        "outputId": "857b9f63-86f9-4e6d-e673-3838866cb59e",
        "colab": {
          "base_uri": "https://localhost:8080/",
          "height": 204
        }
      },
      "source": [
        "test_df.head()"
      ],
      "execution_count": 0,
      "outputs": [
        {
          "output_type": "execute_result",
          "data": {
            "text/html": [
              "<div>\n",
              "<style scoped>\n",
              "    .dataframe tbody tr th:only-of-type {\n",
              "        vertical-align: middle;\n",
              "    }\n",
              "\n",
              "    .dataframe tbody tr th {\n",
              "        vertical-align: top;\n",
              "    }\n",
              "\n",
              "    .dataframe thead th {\n",
              "        text-align: right;\n",
              "    }\n",
              "</style>\n",
              "<table border=\"1\" class=\"dataframe\">\n",
              "  <thead>\n",
              "    <tr style=\"text-align: right;\">\n",
              "      <th></th>\n",
              "      <th>second</th>\n",
              "    </tr>\n",
              "  </thead>\n",
              "  <tbody>\n",
              "    <tr>\n",
              "      <th>0</th>\n",
              "      <td>800</td>\n",
              "    </tr>\n",
              "    <tr>\n",
              "      <th>1</th>\n",
              "      <td>810</td>\n",
              "    </tr>\n",
              "    <tr>\n",
              "      <th>2</th>\n",
              "      <td>820</td>\n",
              "    </tr>\n",
              "    <tr>\n",
              "      <th>3</th>\n",
              "      <td>830</td>\n",
              "    </tr>\n",
              "    <tr>\n",
              "      <th>4</th>\n",
              "      <td>840</td>\n",
              "    </tr>\n",
              "  </tbody>\n",
              "</table>\n",
              "</div>"
            ],
            "text/plain": [
              "   second\n",
              "0     800\n",
              "1     810\n",
              "2     820\n",
              "3     830\n",
              "4     840"
            ]
          },
          "metadata": {
            "tags": []
          },
          "execution_count": 363
        }
      ]
    },
    {
      "cell_type": "code",
      "metadata": {
        "id": "6osnjMlF_s54",
        "colab_type": "code",
        "outputId": "2d385e14-065f-44c7-8a90-c863ee215680",
        "colab": {
          "base_uri": "https://localhost:8080/",
          "height": 235
        }
      },
      "source": [
        "train_df.head()"
      ],
      "execution_count": 0,
      "outputs": [
        {
          "output_type": "execute_result",
          "data": {
            "text/html": [
              "<div>\n",
              "<style scoped>\n",
              "    .dataframe tbody tr th:only-of-type {\n",
              "        vertical-align: middle;\n",
              "    }\n",
              "\n",
              "    .dataframe tbody tr th {\n",
              "        vertical-align: top;\n",
              "    }\n",
              "\n",
              "    .dataframe thead th {\n",
              "        text-align: right;\n",
              "    }\n",
              "</style>\n",
              "<table border=\"1\" class=\"dataframe\">\n",
              "  <thead>\n",
              "    <tr style=\"text-align: right;\">\n",
              "      <th></th>\n",
              "      <th>feature</th>\n",
              "      <th>day</th>\n",
              "      <th>month</th>\n",
              "      <th>year</th>\n",
              "    </tr>\n",
              "    <tr>\n",
              "      <th>second</th>\n",
              "      <th></th>\n",
              "      <th></th>\n",
              "      <th></th>\n",
              "      <th></th>\n",
              "    </tr>\n",
              "  </thead>\n",
              "  <tbody>\n",
              "    <tr>\n",
              "      <th>0</th>\n",
              "      <td>237.97</td>\n",
              "      <td>19</td>\n",
              "      <td>03</td>\n",
              "      <td>2019</td>\n",
              "    </tr>\n",
              "    <tr>\n",
              "      <th>10</th>\n",
              "      <td>57.93</td>\n",
              "      <td>19</td>\n",
              "      <td>03</td>\n",
              "      <td>2019</td>\n",
              "    </tr>\n",
              "    <tr>\n",
              "      <th>20</th>\n",
              "      <td>90.53</td>\n",
              "      <td>19</td>\n",
              "      <td>03</td>\n",
              "      <td>2019</td>\n",
              "    </tr>\n",
              "    <tr>\n",
              "      <th>30</th>\n",
              "      <td>260.75</td>\n",
              "      <td>19</td>\n",
              "      <td>03</td>\n",
              "      <td>2019</td>\n",
              "    </tr>\n",
              "    <tr>\n",
              "      <th>40</th>\n",
              "      <td>49.70</td>\n",
              "      <td>19</td>\n",
              "      <td>03</td>\n",
              "      <td>2019</td>\n",
              "    </tr>\n",
              "  </tbody>\n",
              "</table>\n",
              "</div>"
            ],
            "text/plain": [
              "        feature day month  year\n",
              "second                         \n",
              "0        237.97  19    03  2019\n",
              "10        57.93  19    03  2019\n",
              "20        90.53  19    03  2019\n",
              "30       260.75  19    03  2019\n",
              "40        49.70  19    03  2019"
            ]
          },
          "metadata": {
            "tags": []
          },
          "execution_count": 428
        }
      ]
    },
    {
      "cell_type": "code",
      "metadata": {
        "id": "K4zgC8da7Mx4",
        "colab_type": "code",
        "colab": {}
      },
      "source": [
        "train_df.drop(['day','month','year'],axis=1)"
      ],
      "execution_count": 0,
      "outputs": []
    },
    {
      "cell_type": "code",
      "metadata": {
        "id": "gT934xmQPxni",
        "colab_type": "code",
        "colab": {}
      },
      "source": [
        "test_df.drop(['day','month','year'],axis=1)"
      ],
      "execution_count": 0,
      "outputs": []
    },
    {
      "cell_type": "code",
      "metadata": {
        "id": "b-HkjTsrC204",
        "colab_type": "code",
        "outputId": "70f0c5a3-a3ea-456c-996a-7bed08dd4154",
        "colab": {
          "base_uri": "https://localhost:8080/",
          "height": 204
        }
      },
      "source": [
        "test_df.head()"
      ],
      "execution_count": 0,
      "outputs": [
        {
          "output_type": "execute_result",
          "data": {
            "text/html": [
              "<div>\n",
              "<style scoped>\n",
              "    .dataframe tbody tr th:only-of-type {\n",
              "        vertical-align: middle;\n",
              "    }\n",
              "\n",
              "    .dataframe tbody tr th {\n",
              "        vertical-align: top;\n",
              "    }\n",
              "\n",
              "    .dataframe thead th {\n",
              "        text-align: right;\n",
              "    }\n",
              "</style>\n",
              "<table border=\"1\" class=\"dataframe\">\n",
              "  <thead>\n",
              "    <tr style=\"text-align: right;\">\n",
              "      <th></th>\n",
              "      <th>second</th>\n",
              "      <th>day</th>\n",
              "      <th>month</th>\n",
              "      <th>year</th>\n",
              "    </tr>\n",
              "  </thead>\n",
              "  <tbody>\n",
              "    <tr>\n",
              "      <th>0</th>\n",
              "      <td>800</td>\n",
              "      <td>19</td>\n",
              "      <td>03</td>\n",
              "      <td>2019</td>\n",
              "    </tr>\n",
              "    <tr>\n",
              "      <th>1</th>\n",
              "      <td>810</td>\n",
              "      <td>19</td>\n",
              "      <td>03</td>\n",
              "      <td>2019</td>\n",
              "    </tr>\n",
              "    <tr>\n",
              "      <th>2</th>\n",
              "      <td>820</td>\n",
              "      <td>19</td>\n",
              "      <td>03</td>\n",
              "      <td>2019</td>\n",
              "    </tr>\n",
              "    <tr>\n",
              "      <th>3</th>\n",
              "      <td>830</td>\n",
              "      <td>19</td>\n",
              "      <td>03</td>\n",
              "      <td>2019</td>\n",
              "    </tr>\n",
              "    <tr>\n",
              "      <th>4</th>\n",
              "      <td>840</td>\n",
              "      <td>19</td>\n",
              "      <td>03</td>\n",
              "      <td>2019</td>\n",
              "    </tr>\n",
              "  </tbody>\n",
              "</table>\n",
              "</div>"
            ],
            "text/plain": [
              "   second day month  year\n",
              "0     800  19    03  2019\n",
              "1     810  19    03  2019\n",
              "2     820  19    03  2019\n",
              "3     830  19    03  2019\n",
              "4     840  19    03  2019"
            ]
          },
          "metadata": {
            "tags": []
          },
          "execution_count": 382
        }
      ]
    },
    {
      "cell_type": "code",
      "metadata": {
        "id": "5MJ9hsyJ7Mv6",
        "colab_type": "code",
        "outputId": "fd6375e7-87c6-4308-a637-60f838b26636",
        "colab": {
          "base_uri": "https://localhost:8080/",
          "height": 279
        }
      },
      "source": [
        "pd.plotting.lag_plot(train_df['second'])\n",
        "plt.show()"
      ],
      "execution_count": 0,
      "outputs": [
        {
          "output_type": "display_data",
          "data": {
            "image/png": "[encoded data removed]",
            "text/plain": [
              "<Figure size 432x288 with 1 Axes>"
            ]
          },
          "metadata": {
            "tags": [],
            "needs_background": "light"
          }
        }
      ]
    },
    {
      "cell_type": "code",
      "metadata": {
        "id": "-vwxIbFZAwyN",
        "colab_type": "code",
        "outputId": "3ac760b7-a1c1-4559-d146-b074239c5986",
        "colab": {
          "base_uri": "https://localhost:8080/",
          "height": 279
        }
      },
      "source": [
        "pd.plotting.lag_plot(train_df['feature'])\n",
        "plt.show()"
      ],
      "execution_count": 0,
      "outputs": [
        {
          "output_type": "display_data",
          "data": {
            "image/png": "[encoded data removed]",
            "text/plain": [
              "<Figure size 432x288 with 1 Axes>"
            ]
          },
          "metadata": {
            "tags": [],
            "needs_background": "light"
          }
        }
      ]
    },
    {
      "cell_type": "code",
      "metadata": {
        "id": "rXgZjfjO7MsS",
        "colab_type": "code",
        "colab": {}
      },
      "source": [
        "train_df = train_df.set_index('second')\n",
        "test_df = test_df.set_index('second')"
      ],
      "execution_count": 0,
      "outputs": []
    },
    {
      "cell_type": "code",
      "metadata": {
        "id": "8h0vrpsGBals",
        "colab_type": "code",
        "colab": {}
      },
      "source": [
        "import statsmodels.api as sm"
      ],
      "execution_count": 0,
      "outputs": []
    },
    {
      "cell_type": "code",
      "metadata": {
        "id": "4NXZTXJw7Mqn",
        "colab_type": "code",
        "outputId": "c39e9c5e-7920-4dab-eeba-3d11d2cdb162",
        "colab": {
          "base_uri": "https://localhost:8080/",
          "height": 1000
        }
      },
      "source": [
        "mod = sm.tsa.SARIMAX(df['feature'], trend='n', order=(20,2,9), seasonal_order=(1,1,1,12))\n",
        "results = mod.fit()\n",
        "print(results.summary())"
      ],
      "execution_count": 0,
      "outputs": [
        {
          "output_type": "stream",
          "text": [
            "/usr/local/lib/python3.6/dist-packages/statsmodels/tsa/base/tsa_model.py:165: ValueWarning:\n",
            "\n",
            "No frequency information was provided, so inferred frequency 10S will be used.\n",
            "\n",
            "/usr/local/lib/python3.6/dist-packages/statsmodels/tsa/statespace/sarimax.py:949: UserWarning:\n",
            "\n",
            "Non-stationary starting autoregressive parameters found. Using zeros as starting parameters.\n",
            "\n",
            "/usr/local/lib/python3.6/dist-packages/statsmodels/tsa/statespace/sarimax.py:961: UserWarning:\n",
            "\n",
            "Non-invertible starting MA parameters found. Using zeros as starting parameters.\n",
            "\n",
            "/usr/local/lib/python3.6/dist-packages/statsmodels/base/model.py:512: ConvergenceWarning:\n",
            "\n",
            "Maximum Likelihood optimization failed to converge. Check mle_retvals\n",
            "\n"
          ],
          "name": "stderr"
        },
        {
          "output_type": "stream",
          "text": [
            "                                  Statespace Model Results                                 \n",
            "===========================================================================================\n",
            "Dep. Variable:                             feature   No. Observations:                   80\n",
            "Model:             SARIMAX(20, 2, 9)x(1, 1, 1, 12)   Log Likelihood                -396.630\n",
            "Date:                             Tue, 14 Apr 2020   AIC                            857.260\n",
            "Time:                                     16:13:31   BIC                            927.329\n",
            "Sample:                                 03-19-2019   HQIC                           884.948\n",
            "                                      - 03-19-2019                                         \n",
            "Covariance Type:                               opg                                         \n",
            "==============================================================================\n",
            "                 coef    std err          z      P>|z|      [0.025      0.975]\n",
            "------------------------------------------------------------------------------\n",
            "ar.L1         -1.0758    330.146     -0.003      0.997    -648.151     645.999\n",
            "ar.L2         -0.9045    100.988     -0.009      0.993    -198.837     197.028\n",
            "ar.L3         -1.0109    221.348     -0.005      0.996    -434.845     432.824\n",
            "ar.L4         -1.2608    164.290     -0.008      0.994    -323.263     320.741\n",
            "ar.L5         -1.4438    290.377     -0.005      0.996    -570.573     567.685\n",
            "ar.L6         -0.9432    253.665     -0.004      0.997    -498.117     496.231\n",
            "ar.L7         -1.1654    116.560     -0.010      0.992    -229.619     227.288\n",
            "ar.L8         -1.1669    295.401     -0.004      0.997    -580.142     577.809\n",
            "ar.L9         -1.0117    157.866     -0.006      0.995    -310.423     308.400\n",
            "ar.L10        -0.9323    212.339     -0.004      0.996    -417.110     415.245\n",
            "ar.L11        -0.8148    144.093     -0.006      0.995    -283.231     281.602\n",
            "ar.L12        -0.1429    157.285     -0.001      0.999    -308.416     308.130\n",
            "ar.L13         0.1686     75.007      0.002      0.998    -146.843     147.180\n",
            "ar.L14        -0.2014      2.410     -0.084      0.933      -4.925       4.523\n",
            "ar.L15        -0.1188     64.789     -0.002      0.999    -127.103     126.865\n",
            "ar.L16        -0.0527     12.025     -0.004      0.997     -23.621      23.516\n",
            "ar.L17         0.1874     25.509      0.007      0.994     -49.810      50.185\n",
            "ar.L18        -0.2081     82.156     -0.003      0.998    -161.232     160.815\n",
            "ar.L19        -0.1375    131.420     -0.001      0.999    -257.716     257.441\n",
            "ar.L20         0.1300     56.340      0.002      0.998    -110.295     110.555\n",
            "ma.L1         -0.3849    320.772     -0.001      0.999    -629.086     628.316\n",
            "ma.L2         -0.5001    381.554     -0.001      0.999    -748.332     747.332\n",
            "ma.L3          0.3528    125.102      0.003      0.998    -244.844     245.549\n",
            "ma.L4         -0.0321     22.016     -0.001      0.999     -43.182      43.118\n",
            "ma.L5         -0.1210     33.035     -0.004      0.997     -64.868      64.626\n",
            "ma.L6         -0.3499     23.783     -0.015      0.988     -46.964      46.264\n",
            "ma.L7          0.7712    100.404      0.008      0.994    -196.016     197.559\n",
            "ma.L8         -0.0776    324.540     -0.000      1.000    -636.164     636.009\n",
            "ma.L9         -0.6552    284.082     -0.002      0.998    -557.445     556.135\n",
            "ar.S.L12      -0.5588      0.254     -2.196      0.028      -1.057      -0.060\n",
            "ma.S.L12      -0.8745      3.570     -0.245      0.806      -7.871       6.122\n",
            "sigma2      6143.9908   2.06e+05      0.030      0.976   -3.98e+05     4.1e+05\n",
            "===================================================================================\n",
            "Ljung-Box (Q):                       19.36   Jarque-Bera (JB):                 0.88\n",
            "Prob(Q):                              1.00   Prob(JB):                         0.64\n",
            "Heteroskedasticity (H):               0.93   Skew:                             0.00\n",
            "Prob(H) (two-sided):                  0.86   Kurtosis:                         2.44\n",
            "===================================================================================\n",
            "\n",
            "Warnings:\n",
            "[1] Covariance matrix calculated using the outer product of gradients (complex-step).\n",
            "[2] Covariance matrix is singular or near-singular, with condition number 8.16e+14. Standard errors may be unstable.\n"
          ],
          "name": "stdout"
        }
      ]
    },
    {
      "cell_type": "code",
      "metadata": {
        "id": "CoGXrm-I7MlS",
        "colab_type": "code",
        "outputId": "4faf3918-a07a-4f79-cdda-fff3bb1643b5",
        "colab": {
          "base_uri": "https://localhost:8080/",
          "height": 508
        }
      },
      "source": [
        "df['forecast'] = results.predict(start = 70, end= 80, dynamic= True)  \n",
        "df[['feature', 'forecast']].plot(figsize=(12, 8))\n",
        "plt.show()"
      ],
      "execution_count": 0,
      "outputs": [
        {
          "output_type": "display_data",
          "data": {
            "image/png": "[encoded data removed]",
            "text/plain": [
              "<Figure size 864x576 with 1 Axes>"
            ]
          },
          "metadata": {
            "tags": [],
            "needs_background": "light"
          }
        }
      ]
    },
    {
      "cell_type": "code",
      "metadata": {
        "id": "W0lrSvNM7Mh9",
        "colab_type": "code",
        "colab": {}
      },
      "source": [
        "test_df = pd.read_csv(\"/content/drive/My Drive/taskgive/test_csv.csv\")"
      ],
      "execution_count": 0,
      "outputs": []
    },
    {
      "cell_type": "code",
      "metadata": {
        "id": "Dot0t4w5gjV4",
        "colab_type": "code",
        "outputId": "7fd4b94f-b717-477c-e848-b116807a366a",
        "colab": {
          "base_uri": "https://localhost:8080/",
          "height": 204
        }
      },
      "source": [
        "test_df.head()"
      ],
      "execution_count": 0,
      "outputs": [
        {
          "output_type": "execute_result",
          "data": {
            "text/html": [
              "<div>\n",
              "<style scoped>\n",
              "    .dataframe tbody tr th:only-of-type {\n",
              "        vertical-align: middle;\n",
              "    }\n",
              "\n",
              "    .dataframe tbody tr th {\n",
              "        vertical-align: top;\n",
              "    }\n",
              "\n",
              "    .dataframe thead th {\n",
              "        text-align: right;\n",
              "    }\n",
              "</style>\n",
              "<table border=\"1\" class=\"dataframe\">\n",
              "  <thead>\n",
              "    <tr style=\"text-align: right;\">\n",
              "      <th></th>\n",
              "      <th>id</th>\n",
              "      <th>time</th>\n",
              "    </tr>\n",
              "  </thead>\n",
              "  <tbody>\n",
              "    <tr>\n",
              "      <th>0</th>\n",
              "      <td>80</td>\n",
              "      <td>2019-03-19 00:13:20</td>\n",
              "    </tr>\n",
              "    <tr>\n",
              "      <th>1</th>\n",
              "      <td>81</td>\n",
              "      <td>2019-03-19 00:13:30</td>\n",
              "    </tr>\n",
              "    <tr>\n",
              "      <th>2</th>\n",
              "      <td>82</td>\n",
              "      <td>2019-03-19 00:13:40</td>\n",
              "    </tr>\n",
              "    <tr>\n",
              "      <th>3</th>\n",
              "      <td>83</td>\n",
              "      <td>2019-03-19 00:13:50</td>\n",
              "    </tr>\n",
              "    <tr>\n",
              "      <th>4</th>\n",
              "      <td>84</td>\n",
              "      <td>2019-03-19 00:14:00</td>\n",
              "    </tr>\n",
              "  </tbody>\n",
              "</table>\n",
              "</div>"
            ],
            "text/plain": [
              "   id                 time\n",
              "0  80  2019-03-19 00:13:20\n",
              "1  81  2019-03-19 00:13:30\n",
              "2  82  2019-03-19 00:13:40\n",
              "3  83  2019-03-19 00:13:50\n",
              "4  84  2019-03-19 00:14:00"
            ]
          },
          "metadata": {
            "tags": []
          },
          "execution_count": 394
        }
      ]
    },
    {
      "cell_type": "code",
      "metadata": {
        "id": "riGxyY747MeV",
        "colab_type": "code",
        "colab": {}
      },
      "source": [
        "def forcasting_future_months(df, no_of_months):\n",
        "    df_perdict = df.reset_index()\n",
        "\n",
        "    mon = df_perdict['time']\n",
        "    mon = mon + pd.DateOffset(seconds = no_of_months)\n",
        "    future_dates = mon[no_of_months -1:]\n",
        "    df_perdict.set_index(pd.DatetimeIndex(pd.to_datetime(df_perdict.time)), inplace=True)\n",
        "    #df_perdict = df_perdict.set_index('time')\n",
        "    future = pd.DataFrame(index=future_dates, columns= df_perdict.columns)\n",
        "    df_perdict = pd.concat([df_perdict, future])\n",
        "    df_perdict['forecast'] = results.predict(start = 0, end = 100, dynamic= True)  \n",
        "    df_perdict[['time', 'forecast']].iloc[-no_of_months - 10:].plot(figsize=(12, 8))\n",
        "    plt.show()\n",
        "    return df_perdict[-no_of_months:]\n"
      ],
      "execution_count": 0,
      "outputs": []
    },
    {
      "cell_type": "code",
      "metadata": {
        "id": "b3L0YmZDgYzU",
        "colab_type": "code",
        "colab": {}
      },
      "source": [
        "test_df['time']=pd.to_datetime(pd.Series(test_df.time), format=\"%Y/%m/%d %H:%M:%S\")"
      ],
      "execution_count": 0,
      "outputs": []
    },
    {
      "cell_type": "code",
      "metadata": {
        "id": "PG-9fDvK7Mbx",
        "colab_type": "code",
        "outputId": "28fb489d-906f-43d2-df9d-f0fb81695685",
        "colab": {
          "base_uri": "https://localhost:8080/",
          "height": 474
        }
      },
      "source": [
        "predicted = forcasting_future_months(test_df,0)"
      ],
      "execution_count": 0,
      "outputs": [
        {
          "output_type": "display_data",
          "data": {
            "image/png": "[encoded data removed]",
            "text/plain": [
              "<Figure size 864x576 with 1 Axes>"
            ]
          },
          "metadata": {
            "tags": [],
            "needs_background": "light"
          }
        }
      ]
    },
    {
      "cell_type": "code",
      "metadata": {
        "id": "gSM_EDPi7MZ9",
        "colab_type": "code",
        "outputId": "1c793eef-7e25-4840-ef16-6c70c5e4ca92",
        "colab": {
          "base_uri": "https://localhost:8080/",
          "height": 714
        }
      },
      "source": [
        "test_df.head"
      ],
      "execution_count": 0,
      "outputs": [
        {
          "output_type": "execute_result",
          "data": {
            "text/plain": [
              "<bound method NDFrame.head of      id                time\n",
              "0    80 2019-03-19 00:13:20\n",
              "1    81 2019-03-19 00:13:30\n",
              "2    82 2019-03-19 00:13:40\n",
              "3    83 2019-03-19 00:13:50\n",
              "4    84 2019-03-19 00:14:00\n",
              "5    85 2019-03-19 00:14:10\n",
              "6    86 2019-03-19 00:14:20\n",
              "7    87 2019-03-19 00:14:30\n",
              "8    88 2019-03-19 00:14:40\n",
              "9    89 2019-03-19 00:14:50\n",
              "10   90 2019-03-19 00:15:00\n",
              "11   91 2019-03-19 00:15:10\n",
              "12   92 2019-03-19 00:15:20\n",
              "13   93 2019-03-19 00:15:30\n",
              "14   94 2019-03-19 00:15:40\n",
              "15   95 2019-03-19 00:15:50\n",
              "16   96 2019-03-19 00:16:00\n",
              "17   97 2019-03-19 00:16:10\n",
              "18   98 2019-03-19 00:16:20\n",
              "19   99 2019-03-19 00:16:30\n",
              "20  100 2019-03-19 00:16:40\n",
              "21  101 2019-03-19 00:16:50\n",
              "22  102 2019-03-19 00:17:00\n",
              "23  103 2019-03-19 00:17:10\n",
              "24  104 2019-03-19 00:17:20\n",
              "25  105 2019-03-19 00:17:30\n",
              "26  106 2019-03-19 00:17:40\n",
              "27  107 2019-03-19 00:17:50\n",
              "28  108 2019-03-19 00:18:00\n",
              "29  109 2019-03-19 00:18:10\n",
              "30  110 2019-03-19 00:18:20\n",
              "31  111 2019-03-19 00:18:30\n",
              "32  112 2019-03-19 00:18:40\n",
              "33  113 2019-03-19 00:18:50\n",
              "34  114 2019-03-19 00:19:00\n",
              "35  115 2019-03-19 00:19:10\n",
              "36  116 2019-03-19 00:19:20\n",
              "37  117 2019-03-19 00:19:30\n",
              "38  118 2019-03-19 00:19:40\n",
              "39  119 2019-03-19 00:19:50>"
            ]
          },
          "metadata": {
            "tags": []
          },
          "execution_count": 420
        }
      ]
    },
    {
      "cell_type": "code",
      "metadata": {
        "id": "H45ApRvB7MV5",
        "colab_type": "code",
        "outputId": "b1684fc2-a27c-43df-94ef-c37eb8efa167",
        "colab": {
          "base_uri": "https://localhost:8080/",
          "height": 1000
        }
      },
      "source": [
        "predicted"
      ],
      "execution_count": 0,
      "outputs": [
        {
          "output_type": "execute_result",
          "data": {
            "text/html": [
              "<div>\n",
              "<style scoped>\n",
              "    .dataframe tbody tr th:only-of-type {\n",
              "        vertical-align: middle;\n",
              "    }\n",
              "\n",
              "    .dataframe tbody tr th {\n",
              "        vertical-align: top;\n",
              "    }\n",
              "\n",
              "    .dataframe thead th {\n",
              "        text-align: right;\n",
              "    }\n",
              "</style>\n",
              "<table border=\"1\" class=\"dataframe\">\n",
              "  <thead>\n",
              "    <tr style=\"text-align: right;\">\n",
              "      <th></th>\n",
              "      <th>index</th>\n",
              "      <th>id</th>\n",
              "      <th>time</th>\n",
              "      <th>forecast</th>\n",
              "    </tr>\n",
              "    <tr>\n",
              "      <th>time</th>\n",
              "      <th></th>\n",
              "      <th></th>\n",
              "      <th></th>\n",
              "      <th></th>\n",
              "    </tr>\n",
              "  </thead>\n",
              "  <tbody>\n",
              "    <tr>\n",
              "      <th>2019-03-19 00:13:20</th>\n",
              "      <td>0</td>\n",
              "      <td>80</td>\n",
              "      <td>2019-03-19 00:13:20</td>\n",
              "      <td>0.0</td>\n",
              "    </tr>\n",
              "    <tr>\n",
              "      <th>2019-03-19 00:13:30</th>\n",
              "      <td>1</td>\n",
              "      <td>81</td>\n",
              "      <td>2019-03-19 00:13:30</td>\n",
              "      <td>0.0</td>\n",
              "    </tr>\n",
              "    <tr>\n",
              "      <th>2019-03-19 00:13:40</th>\n",
              "      <td>2</td>\n",
              "      <td>82</td>\n",
              "      <td>2019-03-19 00:13:40</td>\n",
              "      <td>0.0</td>\n",
              "    </tr>\n",
              "    <tr>\n",
              "      <th>2019-03-19 00:13:50</th>\n",
              "      <td>3</td>\n",
              "      <td>83</td>\n",
              "      <td>2019-03-19 00:13:50</td>\n",
              "      <td>0.0</td>\n",
              "    </tr>\n",
              "    <tr>\n",
              "      <th>2019-03-19 00:14:00</th>\n",
              "      <td>4</td>\n",
              "      <td>84</td>\n",
              "      <td>2019-03-19 00:14:00</td>\n",
              "      <td>0.0</td>\n",
              "    </tr>\n",
              "    <tr>\n",
              "      <th>2019-03-19 00:14:10</th>\n",
              "      <td>5</td>\n",
              "      <td>85</td>\n",
              "      <td>2019-03-19 00:14:10</td>\n",
              "      <td>0.0</td>\n",
              "    </tr>\n",
              "    <tr>\n",
              "      <th>2019-03-19 00:14:20</th>\n",
              "      <td>6</td>\n",
              "      <td>86</td>\n",
              "      <td>2019-03-19 00:14:20</td>\n",
              "      <td>0.0</td>\n",
              "    </tr>\n",
              "    <tr>\n",
              "      <th>2019-03-19 00:14:30</th>\n",
              "      <td>7</td>\n",
              "      <td>87</td>\n",
              "      <td>2019-03-19 00:14:30</td>\n",
              "      <td>0.0</td>\n",
              "    </tr>\n",
              "    <tr>\n",
              "      <th>2019-03-19 00:14:40</th>\n",
              "      <td>8</td>\n",
              "      <td>88</td>\n",
              "      <td>2019-03-19 00:14:40</td>\n",
              "      <td>0.0</td>\n",
              "    </tr>\n",
              "    <tr>\n",
              "      <th>2019-03-19 00:14:50</th>\n",
              "      <td>9</td>\n",
              "      <td>89</td>\n",
              "      <td>2019-03-19 00:14:50</td>\n",
              "      <td>0.0</td>\n",
              "    </tr>\n",
              "    <tr>\n",
              "      <th>2019-03-19 00:15:00</th>\n",
              "      <td>10</td>\n",
              "      <td>90</td>\n",
              "      <td>2019-03-19 00:15:00</td>\n",
              "      <td>0.0</td>\n",
              "    </tr>\n",
              "    <tr>\n",
              "      <th>2019-03-19 00:15:10</th>\n",
              "      <td>11</td>\n",
              "      <td>91</td>\n",
              "      <td>2019-03-19 00:15:10</td>\n",
              "      <td>0.0</td>\n",
              "    </tr>\n",
              "    <tr>\n",
              "      <th>2019-03-19 00:15:20</th>\n",
              "      <td>12</td>\n",
              "      <td>92</td>\n",
              "      <td>2019-03-19 00:15:20</td>\n",
              "      <td>0.0</td>\n",
              "    </tr>\n",
              "    <tr>\n",
              "      <th>2019-03-19 00:15:30</th>\n",
              "      <td>13</td>\n",
              "      <td>93</td>\n",
              "      <td>2019-03-19 00:15:30</td>\n",
              "      <td>0.0</td>\n",
              "    </tr>\n",
              "    <tr>\n",
              "      <th>2019-03-19 00:15:40</th>\n",
              "      <td>14</td>\n",
              "      <td>94</td>\n",
              "      <td>2019-03-19 00:15:40</td>\n",
              "      <td>0.0</td>\n",
              "    </tr>\n",
              "    <tr>\n",
              "      <th>2019-03-19 00:15:50</th>\n",
              "      <td>15</td>\n",
              "      <td>95</td>\n",
              "      <td>2019-03-19 00:15:50</td>\n",
              "      <td>0.0</td>\n",
              "    </tr>\n",
              "    <tr>\n",
              "      <th>2019-03-19 00:16:00</th>\n",
              "      <td>16</td>\n",
              "      <td>96</td>\n",
              "      <td>2019-03-19 00:16:00</td>\n",
              "      <td>0.0</td>\n",
              "    </tr>\n",
              "    <tr>\n",
              "      <th>2019-03-19 00:16:10</th>\n",
              "      <td>17</td>\n",
              "      <td>97</td>\n",
              "      <td>2019-03-19 00:16:10</td>\n",
              "      <td>0.0</td>\n",
              "    </tr>\n",
              "    <tr>\n",
              "      <th>2019-03-19 00:16:20</th>\n",
              "      <td>18</td>\n",
              "      <td>98</td>\n",
              "      <td>2019-03-19 00:16:20</td>\n",
              "      <td>0.0</td>\n",
              "    </tr>\n",
              "    <tr>\n",
              "      <th>2019-03-19 00:16:30</th>\n",
              "      <td>19</td>\n",
              "      <td>99</td>\n",
              "      <td>2019-03-19 00:16:30</td>\n",
              "      <td>0.0</td>\n",
              "    </tr>\n",
              "    <tr>\n",
              "      <th>2019-03-19 00:16:40</th>\n",
              "      <td>20</td>\n",
              "      <td>100</td>\n",
              "      <td>2019-03-19 00:16:40</td>\n",
              "      <td>0.0</td>\n",
              "    </tr>\n",
              "    <tr>\n",
              "      <th>2019-03-19 00:16:50</th>\n",
              "      <td>21</td>\n",
              "      <td>101</td>\n",
              "      <td>2019-03-19 00:16:50</td>\n",
              "      <td>NaN</td>\n",
              "    </tr>\n",
              "    <tr>\n",
              "      <th>2019-03-19 00:17:00</th>\n",
              "      <td>22</td>\n",
              "      <td>102</td>\n",
              "      <td>2019-03-19 00:17:00</td>\n",
              "      <td>NaN</td>\n",
              "    </tr>\n",
              "    <tr>\n",
              "      <th>2019-03-19 00:17:10</th>\n",
              "      <td>23</td>\n",
              "      <td>103</td>\n",
              "      <td>2019-03-19 00:17:10</td>\n",
              "      <td>NaN</td>\n",
              "    </tr>\n",
              "    <tr>\n",
              "      <th>2019-03-19 00:17:20</th>\n",
              "      <td>24</td>\n",
              "      <td>104</td>\n",
              "      <td>2019-03-19 00:17:20</td>\n",
              "      <td>NaN</td>\n",
              "    </tr>\n",
              "    <tr>\n",
              "      <th>2019-03-19 00:17:30</th>\n",
              "      <td>25</td>\n",
              "      <td>105</td>\n",
              "      <td>2019-03-19 00:17:30</td>\n",
              "      <td>NaN</td>\n",
              "    </tr>\n",
              "    <tr>\n",
              "      <th>2019-03-19 00:17:40</th>\n",
              "      <td>26</td>\n",
              "      <td>106</td>\n",
              "      <td>2019-03-19 00:17:40</td>\n",
              "      <td>NaN</td>\n",
              "    </tr>\n",
              "    <tr>\n",
              "      <th>2019-03-19 00:17:50</th>\n",
              "      <td>27</td>\n",
              "      <td>107</td>\n",
              "      <td>2019-03-19 00:17:50</td>\n",
              "      <td>NaN</td>\n",
              "    </tr>\n",
              "    <tr>\n",
              "      <th>2019-03-19 00:18:00</th>\n",
              "      <td>28</td>\n",
              "      <td>108</td>\n",
              "      <td>2019-03-19 00:18:00</td>\n",
              "      <td>NaN</td>\n",
              "    </tr>\n",
              "    <tr>\n",
              "      <th>2019-03-19 00:18:10</th>\n",
              "      <td>29</td>\n",
              "      <td>109</td>\n",
              "      <td>2019-03-19 00:18:10</td>\n",
              "      <td>NaN</td>\n",
              "    </tr>\n",
              "    <tr>\n",
              "      <th>2019-03-19 00:18:20</th>\n",
              "      <td>30</td>\n",
              "      <td>110</td>\n",
              "      <td>2019-03-19 00:18:20</td>\n",
              "      <td>NaN</td>\n",
              "    </tr>\n",
              "    <tr>\n",
              "      <th>2019-03-19 00:18:30</th>\n",
              "      <td>31</td>\n",
              "      <td>111</td>\n",
              "      <td>2019-03-19 00:18:30</td>\n",
              "      <td>NaN</td>\n",
              "    </tr>\n",
              "    <tr>\n",
              "      <th>2019-03-19 00:18:40</th>\n",
              "      <td>32</td>\n",
              "      <td>112</td>\n",
              "      <td>2019-03-19 00:18:40</td>\n",
              "      <td>NaN</td>\n",
              "    </tr>\n",
              "    <tr>\n",
              "      <th>2019-03-19 00:18:50</th>\n",
              "      <td>33</td>\n",
              "      <td>113</td>\n",
              "      <td>2019-03-19 00:18:50</td>\n",
              "      <td>NaN</td>\n",
              "    </tr>\n",
              "    <tr>\n",
              "      <th>2019-03-19 00:19:00</th>\n",
              "      <td>34</td>\n",
              "      <td>114</td>\n",
              "      <td>2019-03-19 00:19:00</td>\n",
              "      <td>NaN</td>\n",
              "    </tr>\n",
              "    <tr>\n",
              "      <th>2019-03-19 00:19:10</th>\n",
              "      <td>35</td>\n",
              "      <td>115</td>\n",
              "      <td>2019-03-19 00:19:10</td>\n",
              "      <td>NaN</td>\n",
              "    </tr>\n",
              "    <tr>\n",
              "      <th>2019-03-19 00:19:20</th>\n",
              "      <td>36</td>\n",
              "      <td>116</td>\n",
              "      <td>2019-03-19 00:19:20</td>\n",
              "      <td>NaN</td>\n",
              "    </tr>\n",
              "    <tr>\n",
              "      <th>2019-03-19 00:19:30</th>\n",
              "      <td>37</td>\n",
              "      <td>117</td>\n",
              "      <td>2019-03-19 00:19:30</td>\n",
              "      <td>NaN</td>\n",
              "    </tr>\n",
              "    <tr>\n",
              "      <th>2019-03-19 00:19:40</th>\n",
              "      <td>38</td>\n",
              "      <td>118</td>\n",
              "      <td>2019-03-19 00:19:40</td>\n",
              "      <td>NaN</td>\n",
              "    </tr>\n",
              "    <tr>\n",
              "      <th>2019-03-19 00:19:50</th>\n",
              "      <td>39</td>\n",
              "      <td>119</td>\n",
              "      <td>2019-03-19 00:19:50</td>\n",
              "      <td>NaN</td>\n",
              "    </tr>\n",
              "    <tr>\n",
              "      <th>2019-03-19 00:19:50</th>\n",
              "      <td>NaN</td>\n",
              "      <td>NaN</td>\n",
              "      <td>NaT</td>\n",
              "      <td>NaN</td>\n",
              "    </tr>\n",
              "  </tbody>\n",
              "</table>\n",
              "</div>"
            ],
            "text/plain": [
              "                    index   id                time  forecast\n",
              "time                                                        \n",
              "2019-03-19 00:13:20     0   80 2019-03-19 00:13:20       0.0\n",
              "2019-03-19 00:13:30     1   81 2019-03-19 00:13:30       0.0\n",
              "2019-03-19 00:13:40     2   82 2019-03-19 00:13:40       0.0\n",
              "2019-03-19 00:13:50     3   83 2019-03-19 00:13:50       0.0\n",
              "2019-03-19 00:14:00     4   84 2019-03-19 00:14:00       0.0\n",
              "2019-03-19 00:14:10     5   85 2019-03-19 00:14:10       0.0\n",
              "2019-03-19 00:14:20     6   86 2019-03-19 00:14:20       0.0\n",
              "2019-03-19 00:14:30     7   87 2019-03-19 00:14:30       0.0\n",
              "2019-03-19 00:14:40     8   88 2019-03-19 00:14:40       0.0\n",
              "2019-03-19 00:14:50     9   89 2019-03-19 00:14:50       0.0\n",
              "2019-03-19 00:15:00    10   90 2019-03-19 00:15:00       0.0\n",
              "2019-03-19 00:15:10    11   91 2019-03-19 00:15:10       0.0\n",
              "2019-03-19 00:15:20    12   92 2019-03-19 00:15:20       0.0\n",
              "2019-03-19 00:15:30    13   93 2019-03-19 00:15:30       0.0\n",
              "2019-03-19 00:15:40    14   94 2019-03-19 00:15:40       0.0\n",
              "2019-03-19 00:15:50    15   95 2019-03-19 00:15:50       0.0\n",
              "2019-03-19 00:16:00    16   96 2019-03-19 00:16:00       0.0\n",
              "2019-03-19 00:16:10    17   97 2019-03-19 00:16:10       0.0\n",
              "2019-03-19 00:16:20    18   98 2019-03-19 00:16:20       0.0\n",
              "2019-03-19 00:16:30    19   99 2019-03-19 00:16:30       0.0\n",
              "2019-03-19 00:16:40    20  100 2019-03-19 00:16:40       0.0\n",
              "2019-03-19 00:16:50    21  101 2019-03-19 00:16:50       NaN\n",
              "2019-03-19 00:17:00    22  102 2019-03-19 00:17:00       NaN\n",
              "2019-03-19 00:17:10    23  103 2019-03-19 00:17:10       NaN\n",
              "2019-03-19 00:17:20    24  104 2019-03-19 00:17:20       NaN\n",
              "2019-03-19 00:17:30    25  105 2019-03-19 00:17:30       NaN\n",
              "2019-03-19 00:17:40    26  106 2019-03-19 00:17:40       NaN\n",
              "2019-03-19 00:17:50    27  107 2019-03-19 00:17:50       NaN\n",
              "2019-03-19 00:18:00    28  108 2019-03-19 00:18:00       NaN\n",
              "2019-03-19 00:18:10    29  109 2019-03-19 00:18:10       NaN\n",
              "2019-03-19 00:18:20    30  110 2019-03-19 00:18:20       NaN\n",
              "2019-03-19 00:18:30    31  111 2019-03-19 00:18:30       NaN\n",
              "2019-03-19 00:18:40    32  112 2019-03-19 00:18:40       NaN\n",
              "2019-03-19 00:18:50    33  113 2019-03-19 00:18:50       NaN\n",
              "2019-03-19 00:19:00    34  114 2019-03-19 00:19:00       NaN\n",
              "2019-03-19 00:19:10    35  115 2019-03-19 00:19:10       NaN\n",
              "2019-03-19 00:19:20    36  116 2019-03-19 00:19:20       NaN\n",
              "2019-03-19 00:19:30    37  117 2019-03-19 00:19:30       NaN\n",
              "2019-03-19 00:19:40    38  118 2019-03-19 00:19:40       NaN\n",
              "2019-03-19 00:19:50    39  119 2019-03-19 00:19:50       NaN\n",
              "2019-03-19 00:19:50   NaN  NaN                 NaT       NaN"
            ]
          },
          "metadata": {
            "tags": []
          },
          "execution_count": 427
        }
      ]
    },
    {
      "cell_type": "markdown",
      "metadata": {
        "id": "Kmb4RBELxtwj",
        "colab_type": "text"
      },
      "source": [
        "# Observation:\n",
        "SVM perform the best then all the other model"
      ]
    },
    {
      "cell_type": "code",
      "metadata": {
        "id": "uNQXhx3cqU0D",
        "colab_type": "code",
        "colab": {}
      },
      "source": [
        ""
      ],
      "execution_count": 0,
      "outputs": []
    },
    {
      "cell_type": "code",
      "metadata": {
        "id": "pF8Rhfx7qUyW",
        "colab_type": "code",
        "colab": {}
      },
      "source": [
        ""
      ],
      "execution_count": 0,
      "outputs": []
    },
    {
      "cell_type": "code",
      "metadata": {
        "id": "ezlKqAURqUu7",
        "colab_type": "code",
        "colab": {}
      },
      "source": [
        ""
      ],
      "execution_count": 0,
      "outputs": []
    },
    {
      "cell_type": "code",
      "metadata": {
        "id": "_ESLl5v8qUrX",
        "colab_type": "code",
        "colab": {}
      },
      "source": [
        ""
      ],
      "execution_count": 0,
      "outputs": []
    }
  ]
}